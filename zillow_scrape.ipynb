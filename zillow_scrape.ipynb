{
 "cells": [
  {
   "attachments": {},
   "cell_type": "markdown",
   "metadata": {},
   "source": []
  },
  {
   "cell_type": "code",
   "execution_count": 16,
   "metadata": {},
   "outputs": [
    {
     "name": "stdout",
     "output_type": "stream",
     "text": [
      "Requirement already satisfied: folium in /opt/anaconda3/lib/python3.8/site-packages (0.14.0)\n",
      "Requirement already satisfied: numpy in /opt/anaconda3/lib/python3.8/site-packages (from folium) (1.23.1)\n",
      "Requirement already satisfied: jinja2>=2.9 in /opt/anaconda3/lib/python3.8/site-packages (from folium) (2.11.3)\n",
      "Requirement already satisfied: branca>=0.6.0 in /opt/anaconda3/lib/python3.8/site-packages (from folium) (0.6.0)\n",
      "Requirement already satisfied: requests in /opt/anaconda3/lib/python3.8/site-packages (from folium) (2.28.1)\n",
      "Requirement already satisfied: MarkupSafe>=0.23 in /opt/anaconda3/lib/python3.8/site-packages (from jinja2>=2.9->folium) (2.0.1)\n",
      "Requirement already satisfied: charset-normalizer<3,>=2 in /opt/anaconda3/lib/python3.8/site-packages (from requests->folium) (2.0.4)\n",
      "Requirement already satisfied: certifi>=2017.4.17 in /opt/anaconda3/lib/python3.8/site-packages (from requests->folium) (2022.6.15)\n",
      "Requirement already satisfied: idna<4,>=2.5 in /opt/anaconda3/lib/python3.8/site-packages (from requests->folium) (3.3)\n",
      "Requirement already satisfied: urllib3<1.27,>=1.21.1 in /opt/anaconda3/lib/python3.8/site-packages (from requests->folium) (1.26.11)\n",
      "\n",
      "\u001b[1m[\u001b[0m\u001b[34;49mnotice\u001b[0m\u001b[1;39;49m]\u001b[0m\u001b[39;49m A new release of pip available: \u001b[0m\u001b[31;49m22.2.2\u001b[0m\u001b[39;49m -> \u001b[0m\u001b[32;49m23.0\u001b[0m\n",
      "\u001b[1m[\u001b[0m\u001b[34;49mnotice\u001b[0m\u001b[1;39;49m]\u001b[0m\u001b[39;49m To update, run: \u001b[0m\u001b[32;49mpip install --upgrade pip\u001b[0m\n",
      "Note: you may need to restart the kernel to use updated packages.\n",
      "Requirement already satisfied: geocoder in /opt/anaconda3/lib/python3.8/site-packages (1.38.1)\n",
      "Requirement already satisfied: six in /opt/anaconda3/lib/python3.8/site-packages (from geocoder) (1.16.0)\n",
      "Requirement already satisfied: future in /opt/anaconda3/lib/python3.8/site-packages (from geocoder) (0.18.2)\n",
      "Requirement already satisfied: ratelim in /opt/anaconda3/lib/python3.8/site-packages (from geocoder) (0.1.6)\n",
      "Requirement already satisfied: click in /opt/anaconda3/lib/python3.8/site-packages (from geocoder) (8.0.4)\n",
      "Requirement already satisfied: requests in /opt/anaconda3/lib/python3.8/site-packages (from geocoder) (2.28.1)\n",
      "Requirement already satisfied: decorator in /opt/anaconda3/lib/python3.8/site-packages (from ratelim->geocoder) (5.1.1)\n",
      "Requirement already satisfied: certifi>=2017.4.17 in /opt/anaconda3/lib/python3.8/site-packages (from requests->geocoder) (2022.6.15)\n",
      "Requirement already satisfied: idna<4,>=2.5 in /opt/anaconda3/lib/python3.8/site-packages (from requests->geocoder) (3.3)\n",
      "Requirement already satisfied: charset-normalizer<3,>=2 in /opt/anaconda3/lib/python3.8/site-packages (from requests->geocoder) (2.0.4)\n",
      "Requirement already satisfied: urllib3<1.27,>=1.21.1 in /opt/anaconda3/lib/python3.8/site-packages (from requests->geocoder) (1.26.11)\n",
      "\n",
      "\u001b[1m[\u001b[0m\u001b[34;49mnotice\u001b[0m\u001b[1;39;49m]\u001b[0m\u001b[39;49m A new release of pip available: \u001b[0m\u001b[31;49m22.2.2\u001b[0m\u001b[39;49m -> \u001b[0m\u001b[32;49m23.0\u001b[0m\n",
      "\u001b[1m[\u001b[0m\u001b[34;49mnotice\u001b[0m\u001b[1;39;49m]\u001b[0m\u001b[39;49m To update, run: \u001b[0m\u001b[32;49mpip install --upgrade pip\u001b[0m\n",
      "Note: you may need to restart the kernel to use updated packages.\n"
     ]
    }
   ],
   "source": [
    "\n",
    "%pip install folium\n",
    "%pip install geocoder\n",
    "\n",
    "from collections import defaultdict\n",
    "from geopy import distance\n",
    "import numpy as np\n",
    "import pandas as pd\n",
    "import requests\n",
    "import json\n",
    "import folium\n",
    "import json\n",
    "from folium import plugins\n",
    "import geocoder"
   ]
  },
  {
   "cell_type": "code",
   "execution_count": 17,
   "metadata": {},
   "outputs": [
    {
     "name": "stdout",
     "output_type": "stream",
     "text": [
      "[40.444, -79.9552]\n"
     ]
    }
   ],
   "source": [
    "g = geocoder.ip('me')\n",
    "print(g.latlng)"
   ]
  },
  {
   "cell_type": "code",
   "execution_count": 18,
   "metadata": {},
   "outputs": [
    {
     "name": "stdout",
     "output_type": "stream",
     "text": [
      "                         address1   latitude  longitude  price   walking  \\\n",
      "0               2353 Sidney St #2  40.429380 -79.971140   2700  1.722332   \n",
      "1              441 Edgemont St #2  40.422600 -79.998880   1200  3.225751   \n",
      "2                   200 S 15th St  40.424866 -79.983440   1500  2.436547   \n",
      "3                 5317 Forbes Ave  40.440155 -79.934940   3760  0.525712   \n",
      "4              4711 Maripoe St #1  40.455498 -79.949670    850  0.892737   \n",
      "5                   1625 Hybla St  40.474262 -80.037970   1100  5.392646   \n",
      "6             3202 Hazelhurst Ave  40.383247 -79.965300   1290  4.292837   \n",
      "7                4245 Parkman Ave  40.448345 -79.957280   4250  0.780735   \n",
      "8              1007 Galveston Ave  40.453010 -80.017100   1500  3.909921   \n",
      "9                 11370 Althea Rd  40.468670 -79.832700   1400  6.123022   \n",
      "10              333 Lehigh Ave #2  40.456150 -79.926100   2995  1.295638   \n",
      "11  1465 Old Steubenville Pike #B  40.450570 -80.114400   1250  8.995203   \n",
      "12                223 Carnegie Pl  40.446510 -79.898950   2500  2.386338   \n",
      "13         5541 Beacon St FLOOR 1  40.434210 -79.928990   2475  1.010694   \n",
      "14               6116 Stanton Ave  40.468600 -79.918110   1880  2.216478   \n",
      "15               2801 Larkins Way  40.425310 -79.966675   1650  1.722539   \n",
      "16                 637 Danbury St  40.468822 -80.018380   1300  4.296567   \n",
      "17            1806 Rhine St #1804  40.464684 -79.991760    899  2.916840   \n",
      "18            4008 Woolslayer Way  40.464664 -79.957400   1895  1.634044   \n",
      "19            3220 1/2 Hardie Way  40.431488 -79.955870    950  1.026821   \n",
      "20            514 Parallel Ave #2  40.403587 -79.978990   1350  3.302774   \n",
      "21            2525 Sarah St APT 6  40.426945 -79.969185    850  1.741657   \n",
      "22      230 Clairmont Ave FLOOR 2  40.518166 -80.021194    900  6.573919   \n",
      "23          7708 Westmoreland Ave  40.422935 -79.883320   1135  3.495413   \n",
      "24           2507 Wedgemere St #2  40.396347 -80.020950   1000  5.191605   \n",
      "25               252 Atwood St #1  40.439766 -79.956350    925  0.694096   \n",
      "26                  1315 Diana St  40.461582 -79.990480   1250  2.754537   \n",
      "\n",
      "      driving  \n",
      "0    2.555264  \n",
      "1    5.092446  \n",
      "2    4.632694  \n",
      "3    1.310844  \n",
      "4    1.255604  \n",
      "5    7.292783  \n",
      "6    6.952023  \n",
      "7    1.173832  \n",
      "8    5.296566  \n",
      "9    7.595701  \n",
      "10   2.164173  \n",
      "11  12.796266  \n",
      "12   3.330114  \n",
      "13   1.735551  \n",
      "14   3.133139  \n",
      "15   2.303049  \n",
      "16   6.674581  \n",
      "17   4.719748  \n",
      "18   2.237868  \n",
      "19   1.557653  \n",
      "20   5.687782  \n",
      "21   2.453235  \n",
      "22   8.296546  \n",
      "23   6.142625  \n",
      "24   6.571620  \n",
      "25   1.003079  \n",
      "26   5.663300  \n"
     ]
    }
   ],
   "source": [
    "df = pd.read_csv(\"data/rapid_data.csv\")\n",
    "addresses = df.loc[:, \"streetAddress\"]\n",
    "lat = df.loc[:, \"latitude\"]\n",
    "longi = df.loc[:, \"longitude\"]\n",
    "cmu_address = (40.4433, -79.944023)\n",
    "distance_df = pd.DataFrame(columns = ['address1', 'latitude', 'longitude'])\n",
    "distance_df['price'] = df.loc[:, \"price\"]\n",
    "distance_df['address1'] = addresses\n",
    "distance_df['latitude'] = lat\n",
    "distance_df['longitude'] = longi\n",
    "walking = []\n",
    "driving = []\n",
    "for i in range(len(addresses)):\n",
    "  d = distance.distance((distance_df.loc[i, \"latitude\"], distance_df.loc[i, \"longitude\"]), (cmu_address[0],cmu_address[1]))\n",
    "  walking.append(d.miles)\n",
    "  r = requests.get(f\"\"\"http://router.project-osrm.org/route/v1/car/{distance_df.loc[i, \"longitude\"]},{distance_df.loc[i, \"latitude\"]};{cmu_address[1]},{cmu_address[0]}?overview=false\"\"\")\n",
    "  route_1 = json.loads(r.content)[\"routes\"][0]\n",
    "  driving.append(route_1[\"distance\"]*0.000621371)\n",
    "distance_df[\"walking\"] = walking\n",
    "distance_df[\"driving\"] = driving\n",
    "print(distance_df)"
   ]
  },
  {
   "cell_type": "code",
   "execution_count": 31,
   "metadata": {},
   "outputs": [],
   "source": [
    "df = distance_df\n",
    "with open('data/pittsburgh.geojson') as f:\n",
    "    pittsburgh = json.load(f)\n",
    "pitt_map = folium.Map(location=[40.4433, -79.944023], tiles='Stamen Toner', zoom_start= 15, tooltip = 'This tooltip will appear on hover')\n",
    "#add the shape of LA County to the map\n",
    "# star marker\n",
    "icon_star = folium.Icon(\n",
    "    prefix='fa', \n",
    "    icon='star', \n",
    "    icon_color='yellow',\n",
    ")\n",
    "folium.GeoJson(pittsburgh).add_to(pitt_map)\n",
    "folium.Marker([40.4433, -79.944023], tooltip='Carnegie Mellon University', icon=icon_star).add_to(pitt_map)\n",
    "for i,row in df.iterrows():\n",
    "    folium.CircleMarker((row.latitude,row.longitude), radius=5, weight=3, color='red', fill_color='red', fill_opacity=.5, tooltip= f'{round(row.driving, 2)}mi \\n ${row.price}/month', popup='<a href=Off_campus.html target=_top> See more </a>',).add_to(pitt_map)\n",
    "df = pd.read_csv(\"Data/CMU_listing_data.csv\")\n",
    "for i,row in df.iterrows():\n",
    "    folium.CircleMarker((row.Latitude,row.Longitude), radius=5, weight=3, color='green', fill_color='green', fill_opacity=.5, tooltip= f'{row.Building} \\n ${row.Cost}/semester', popup=f'<a href= https://eringgao.github.io/lucy_listings/Off_campus.html#{row.Cost} target=_top> See more </a>', target='_top').add_to(pitt_map)\n",
    "pitt_map.save('pitt_map.html')\n"
   ]
  },
  {
   "cell_type": "code",
   "execution_count": null,
   "metadata": {},
   "outputs": [],
   "source": []
  }
 ],
 "metadata": {
  "kernelspec": {
   "display_name": "base",
   "language": "python",
   "name": "python3"
  },
  "language_info": {
   "codemirror_mode": {
    "name": "ipython",
    "version": 3
   },
   "file_extension": ".py",
   "mimetype": "text/x-python",
   "name": "python",
   "nbconvert_exporter": "python",
   "pygments_lexer": "ipython3",
   "version": "3.8.8"
  },
  "orig_nbformat": 4,
  "vscode": {
   "interpreter": {
    "hash": "40d3a090f54c6569ab1632332b64b2c03c39dcf918b08424e98f38b5ae0af88f"
   }
  }
 },
 "nbformat": 4,
 "nbformat_minor": 2
}
