{
  "cells": [
    {
      "cell_type": "markdown",
      "metadata": {
        "colab_type": "text",
        "id": "view-in-github"
      },
      "source": [
        "<a href=\"https://colab.research.google.com/github/eringgao/lucy_listings/blob/main/lucyslistings.ipynb\" target=\"_parent\"><img src=\"https://colab.research.google.com/assets/colab-badge.svg\" alt=\"Open In Colab\"/></a>"
      ]
    },
    {
      "cell_type": "markdown",
      "metadata": {
        "id": "iMsQe7ZIOgMy"
      },
      "source": [
        "# Installations and Declarations"
      ]
    },
    {
      "cell_type": "code",
      "execution_count": 52,
      "metadata": {
        "id": "H1k9VBgDJijg"
      },
      "outputs": [],
      "source": [
        "import pandas as pd\n",
        "import numpy as np\n",
        "from geopy import distance\n",
        "import requests\n",
        "import json\n",
        "import datetime\n",
        "import math\n",
        "import itertools\n",
        "import json\n",
        "from abc import ABC, abstractmethod"
      ]
    },
    {
      "cell_type": "markdown",
      "metadata": {
        "id": "_2kEDZdQOw4w"
      },
      "source": [
        "# Data Processsing"
      ]
    },
    {
      "cell_type": "code",
      "execution_count": 54,
      "metadata": {
        "colab": {
          "base_uri": "https://localhost:8080/"
        },
        "id": "zYwRztMZKQj3",
        "outputId": "7f83692f-0050-4254-b8a6-e08175962871"
      },
      "outputs": [],
      "source": [
        "df = pd.read_csv(\"Data/rapid_data.csv\")\n",
        "cmu_df = pd.read_csv(\"Data/CMU_listing_data.csv\")\n",
        "\n",
        "df = df.drop(columns = [\"currency\", \"daysOnZillow\", \"homeStatusForHDP\", \"zpid\", \"datePriceChanged\", \"priceChange\", \"priceReduction\", \"taxAssessedValue\", \"isFeatured\", \"isNonOwnerOccupied\", \"priceForHDP\", \"shouldHighlight\", \"homeStatus\", \"isPreforeclosureAuction\", \"isPremierBuilder\", \"isZillowOwned\", \"isRentalWithBasePrice\", \"isUnmappable\"])"
      ]
    },
    {
      "cell_type": "code",
      "execution_count": 57,
      "metadata": {
        "id": "Us3JoRn2Nenn"
      },
      "outputs": [],
      "source": [
        "addresses = df.loc[:, \"streetAddress\"]\n",
        "bath = df.loc[:, \"bathrooms\"]\n",
        "beds = df.loc[:, \"bedrooms\"]\n",
        "city = df.loc[:, \"city\"]\n",
        "state = df.loc[:, \"state\"]\n",
        "house_type = df.loc[:, \"homeType\"]\n",
        "lat = df.loc[:, \"latitude\"]\n",
        "longi = df.loc[:, \"longitude\"]\n",
        "price = df.loc[:, \"price\"]\n",
        "zip = df.loc[:, \"zipcode\"]\n",
        "cmu_address = (40.4433, -79.944023)\n",
        "distance_df = pd.DataFrame(columns = ['addr', 'Latitude', 'Longitude'])\n",
        "\n",
        "distance_df['addr'] = addresses\n",
        "distance_df['bath'] = bath\n",
        "distance_df['beds'] = beds\n",
        "distance_df['city'] = city\n",
        "distance_df['state'] = state\n",
        "distance_df['house_type'] = house_type\n",
        "distance_df['Latitude'] = lat\n",
        "distance_df['Longitude'] = longi\n",
        "distance_df['price'] = price\n",
        "distance_df['zip'] = zip"
      ]
    },
    {
      "cell_type": "code",
      "execution_count": 58,
      "metadata": {
        "id": "-RKARUu0YBEd"
      },
      "outputs": [],
      "source": [
        "walking = []\n",
        "driving = []\n",
        "for i in range(len(addresses)):\n",
        "  d = distance.distance((distance_df.loc[i, \"Latitude\"], distance_df.loc[i, \"Longitude\"]), (cmu_address[0],cmu_address[1]))\n",
        "  walking.append(d.miles)\n",
        "  r = requests.get(f\"\"\"http://router.project-osrm.org/route/v1/car/{distance_df.loc[i, \"Longitude\"]},{distance_df.loc[i, \"Latitude\"]};{cmu_address[1]},{cmu_address[0]}?overview=false\"\"\")\n",
        "  route_1 = json.loads(r.content)[\"routes\"][0]\n",
        "  driving.append(route_1[\"distance\"]*0.000621371)\n",
        "distance_df[\"walk\"] = walking\n",
        "distance_df[\"drive\"] = driving"
      ]
    },
    {
      "cell_type": "code",
      "execution_count": null,
      "metadata": {
        "id": "sy74tK7wNXK6"
      },
      "outputs": [],
      "source": [
        "distance_df = pd.read_csv('data/distance_df.csv')\n",
        "print(distance_df)"
      ]
    },
    {
      "cell_type": "markdown",
      "metadata": {
        "id": "WKrZFWMpVh3X"
      },
      "source": [
        "# OOP Structuring"
      ]
    },
    {
      "cell_type": "code",
      "execution_count": 93,
      "metadata": {},
      "outputs": [],
      "source": [
        "distance_df = pd.read_csv('data/distance_df.csv')"
      ]
    },
    {
      "cell_type": "code",
      "execution_count": 100,
      "metadata": {
        "id": "FK4T9F62QXaX"
      },
      "outputs": [],
      "source": [
        "class Listing(ABC): # abstraction?\n",
        "  def __init__(self, addr_dict, price, walk_time=None, drive_dist=None, h_type=None, description=None, beds=None, bath=None): \n",
        "    self.address = addr_dict\n",
        "    self.beds = beds\n",
        "    self.bath = bath\n",
        "    self.house_type = h_type \n",
        "    self.walk = walk_time\n",
        "    self.drive = drive_dist\n",
        "    self.price = price\n",
        "    self.description = description\n",
        "\n",
        "  def get_housing_info(self): \n",
        "    return self.housing_info\n",
        "\n",
        "  def update_housing_info(self, new_info): \n",
        "    # pass\n",
        "    self.housing_info = new_info\n",
        "\n",
        "  def get_address(self): \n",
        "    return self.address\n",
        "\n",
        "  def get_drive_distance(self): \n",
        "    return self.drive\n",
        "\n",
        "  @abstractmethod\n",
        "  def get_list_type(self): \n",
        "    pass\n",
        "\n",
        "\n",
        "class ZillowListing(Listing): \n",
        "  def __init__(self, addr_dict, price, walk_time=None, drive_dist=None, h_type=None, description=None, beds=None, bath=None, zlink=None): \n",
        "    super().__init__(addr_dict, price, walk_time, drive_dist, h_type, description, beds, bath)\n",
        "    self.zillow_link = zlink\n",
        "\n",
        "  def get_list_type(self): \n",
        "    return \"Zillow\"\n",
        "  \n",
        "  def get_zillow_link(self):\n",
        "    return self.zillow_link\n",
        "\n",
        "  def update_zillow_link(self, new_link):\n",
        "    self.zillow_link = new_link"
      ]
    },
    {
      "cell_type": "code",
      "execution_count": 101,
      "metadata": {
        "id": "TU2a9dXWbZch"
      },
      "outputs": [],
      "source": [
        "zill_listings = [ZillowListing({'addr':row.addr, 'city':row.city, 'state':row.state, 'zipcode':row.zip}, row.price, row.walk, row.drive, row.house_type, description=None, beds=row.beds, bath=row.bath) for _, row in distance_df.iterrows()]"
      ]
    },
    {
      "cell_type": "code",
      "execution_count": 103,
      "metadata": {},
      "outputs": [],
      "source": [
        "\n",
        "class CMUListing(Listing):\n",
        "    def __init__(self, addr_dict, grade, building_name, room_type, bathroom_type, price, ac):\n",
        "        super().__init__(addr_dict, price)\n",
        "        self.building_name = building_name\n",
        "        self.grade = grade\n",
        "        self.room_type = room_type\n",
        "        self.bathroom_type = bathroom_type\n",
        "        self.price = price\n",
        "        self.ac = ac   \n",
        "    def get_list_type(self):\n",
        "        return \"CMU On-Campus\"\n",
        "    def get_grade(self):\n",
        "        return self.grade\n",
        "    \n",
        "class ManualListing(Listing):\n",
        "    def __init__(self, first_name, last_name, contact, availability, addr_dict, bathrooms, bedrooms, home_type):\n",
        "        super().__init__(addr_dict, price, beds=bedrooms, bath=bathrooms)\n",
        "        self.first_name = first_name\n",
        "        self.last_name = last_name\n",
        "        self.contact = contact\n",
        "        self.availability = availability \n",
        "        self.bathrooms = bathrooms\n",
        "        self.bedrooms = bedrooms\n",
        "        self.home_type = home_type\n",
        "    def get_list_type(self):\n",
        "        return \"User Posting\""
      ]
    },
    {
      "cell_type": "code",
      "execution_count": null,
      "metadata": {},
      "outputs": [],
      "source": [
        "df_cmu = pd.read_csv(\"Data/CMU_listing_data.csv\")\n",
        "address = []\n",
        "cities = []\n",
        "states = []\n",
        "zipcodes = []\n",
        "for i in df_cmu.loc[:, \"Address\"]:\n",
        "    if(i == \"Corner of Morewood Avenue and Forbes Avenue\"):\n",
        "        i = \"1065 Morewood Ave, Pittsburgh, PA 15213\"\n",
        "    if(i == \"Margaret Morrison Corridor\"):\n",
        "        i = \"5143 Forbes Ave, Pittsburgh, PA 15213\"\n",
        "    splits = i.split(',')\n",
        "    address.append(splits[0])\n",
        "    cities.append(splits[1])\n",
        "    states.append(splits[2].split(\" \")[0])\n",
        "    zipcodes.append(splits[2].split(\" \")[1])\n",
        "cmu_listings = []\n",
        "i = 0\n",
        "for _, row in df_cmu.iterrows():\n",
        "    cmu_listings.append(CMUListing({'addr':address[i], 'city':cities[i], 'state':states[i], 'zipcode':zipcodes[i]}, row.For, row.Building, row.Room, row.Bathroom, row.Cost, row.AC))\n",
        "    i+=1\n",
        "for listing in cmu_listings: \n",
        "  print(listing.get_grade())"
      ]
    },
    {
      "cell_type": "code",
      "execution_count": 105,
      "metadata": {},
      "outputs": [],
      "source": [
        "cmu_jstr = json.dumps([ob.__dict__ for ob in cmu_listings], indent=4)\n",
        "zil_jstr = json.dumps([ob.__dict__ for ob in zill_listings], indent=4)"
      ]
    },
    {
      "cell_type": "code",
      "execution_count": 106,
      "metadata": {},
      "outputs": [],
      "source": [
        "f = open('data/zillow_list.json', 'w')\n",
        "f.write(zil_jstr)\n",
        "f.close()\n",
        "\n",
        "f = open('data/cmu_list.json', 'w')\n",
        "f.write(cmu_jstr)\n",
        "f.close()"
      ]
    }
  ],
  "metadata": {
    "colab": {
      "collapsed_sections": [
        "iMsQe7ZIOgMy"
      ],
      "include_colab_link": true,
      "provenance": []
    },
    "kernelspec": {
      "display_name": "base",
      "language": "python",
      "name": "python3"
    },
    "language_info": {
      "codemirror_mode": {
        "name": "ipython",
        "version": 3
      },
      "file_extension": ".py",
      "mimetype": "text/x-python",
      "name": "python",
      "nbconvert_exporter": "python",
      "pygments_lexer": "ipython3",
      "version": "3.8.8"
    },
    "vscode": {
      "interpreter": {
        "hash": "40d3a090f54c6569ab1632332b64b2c03c39dcf918b08424e98f38b5ae0af88f"
      }
    }
  },
  "nbformat": 4,
  "nbformat_minor": 0
}
