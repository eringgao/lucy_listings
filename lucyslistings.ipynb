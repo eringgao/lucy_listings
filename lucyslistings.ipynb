{
 "cells": [
  {
   "cell_type": "markdown",
   "metadata": {
    "colab_type": "text",
    "id": "view-in-github"
   },
   "source": [
    "<a href=\"https://colab.research.google.com/github/eringgao/lucy_listings/blob/main/lucyslistings.ipynb\" target=\"_parent\"><img src=\"https://colab.research.google.com/assets/colab-badge.svg\" alt=\"Open In Colab\"/></a>"
   ]
  },
  {
   "cell_type": "markdown",
   "metadata": {
    "id": "iMsQe7ZIOgMy"
   },
   "source": [
    "# Installations and Declarations"
   ]
  },
  {
   "cell_type": "code",
   "execution_count": 5,
   "metadata": {},
   "outputs": [
    {
     "name": "stdout",
     "output_type": "stream",
     "text": [
      "Defaulting to user installation because normal site-packages is not writeable\n",
      "Requirement already satisfied: pandas in /Users/eringao/Library/Python/3.9/lib/python/site-packages (1.5.3)\n",
      "Requirement already satisfied: numpy>=1.20.3 in /Users/eringao/Library/Python/3.9/lib/python/site-packages (from pandas) (1.24.1)\n",
      "Requirement already satisfied: pytz>=2020.1 in /Users/eringao/Library/Python/3.9/lib/python/site-packages (from pandas) (2022.7.1)\n",
      "Requirement already satisfied: python-dateutil>=2.8.1 in /Users/eringao/Library/Python/3.9/lib/python/site-packages (from pandas) (2.8.2)\n",
      "Requirement already satisfied: six>=1.5 in /Library/Developer/CommandLineTools/Library/Frameworks/Python3.framework/Versions/3.9/lib/python3.9/site-packages (from python-dateutil>=2.8.1->pandas) (1.15.0)\n",
      "\n",
      "\u001b[1m[\u001b[0m\u001b[34;49mnotice\u001b[0m\u001b[1;39;49m]\u001b[0m\u001b[39;49m A new release of pip available: \u001b[0m\u001b[31;49m22.3\u001b[0m\u001b[39;49m -> \u001b[0m\u001b[32;49m23.0\u001b[0m\n",
      "\u001b[1m[\u001b[0m\u001b[34;49mnotice\u001b[0m\u001b[1;39;49m]\u001b[0m\u001b[39;49m To update, run: \u001b[0m\u001b[32;49m/Library/Developer/CommandLineTools/usr/bin/python3 -m pip install --upgrade pip\u001b[0m\n",
      "Note: you may need to restart the kernel to use updated packages.\n",
      "Defaulting to user installation because normal site-packages is not writeable\n",
      "Collecting geopy\n",
      "  Downloading geopy-2.3.0-py3-none-any.whl (119 kB)\n",
      "\u001b[2K     \u001b[90m━━━━━━━━━━━━━━━━━━━━━━━━━━━━━━━━━━━━━━━\u001b[0m \u001b[32m119.8/119.8 kB\u001b[0m \u001b[31m2.1 MB/s\u001b[0m eta \u001b[36m0:00:00\u001b[0ma \u001b[36m0:00:01\u001b[0m\n",
      "\u001b[?25hCollecting geographiclib<3,>=1.52\n",
      "  Downloading geographiclib-2.0-py3-none-any.whl (40 kB)\n",
      "\u001b[2K     \u001b[90m━━━━━━━━━━━━━━━━━━━━━━━━━━━━━━━━━━━━━━━━\u001b[0m \u001b[32m40.3/40.3 kB\u001b[0m \u001b[31m1.3 MB/s\u001b[0m eta \u001b[36m0:00:00\u001b[0m\n",
      "\u001b[?25hInstalling collected packages: geographiclib, geopy\n",
      "Successfully installed geographiclib-2.0 geopy-2.3.0\n",
      "\n",
      "\u001b[1m[\u001b[0m\u001b[34;49mnotice\u001b[0m\u001b[1;39;49m]\u001b[0m\u001b[39;49m A new release of pip available: \u001b[0m\u001b[31;49m22.3\u001b[0m\u001b[39;49m -> \u001b[0m\u001b[32;49m23.0\u001b[0m\n",
      "\u001b[1m[\u001b[0m\u001b[34;49mnotice\u001b[0m\u001b[1;39;49m]\u001b[0m\u001b[39;49m To update, run: \u001b[0m\u001b[32;49m/Library/Developer/CommandLineTools/usr/bin/python3 -m pip install --upgrade pip\u001b[0m\n",
      "Note: you may need to restart the kernel to use updated packages.\n"
     ]
    }
   ],
   "source": [
    "%pip install pandas\n",
    "%pip install geopy"
   ]
  },
  {
   "cell_type": "code",
   "execution_count": 6,
   "metadata": {
    "id": "H1k9VBgDJijg"
   },
   "outputs": [],
   "source": [
    "import pandas as pd\n",
    "import numpy as np\n",
    "from geopy import distance\n",
    "import requests\n",
    "import json\n",
    "import datetime\n",
    "import math\n",
    "import itertools\n"
   ]
  },
  {
   "cell_type": "code",
   "execution_count": null,
   "metadata": {
    "colab": {
     "base_uri": "https://localhost:8080/"
    },
    "id": "3944VNKMKVk_",
    "outputId": "84182b69-1267-4fae-d895-0ec33cf544fb"
   },
   "outputs": [
    {
     "name": "stdout",
     "output_type": "stream",
     "text": [
      "Drive already mounted at /content/drive; to attempt to forcibly remount, call drive.mount(\"/content/drive\", force_remount=True).\n"
     ]
    }
   ],
   "source": [
    "from google.colab import drive\n",
    "drive.mount('/content/drive')"
   ]
  },
  {
   "cell_type": "markdown",
   "metadata": {
    "id": "_2kEDZdQOw4w"
   },
   "source": [
    "# Coding Starts Here"
   ]
  },
  {
   "cell_type": "code",
   "execution_count": null,
   "metadata": {
    "colab": {
     "base_uri": "https://localhost:8080/"
    },
    "id": "zYwRztMZKQj3",
    "outputId": "3c57524a-2258-4173-964d-3f4253543d0a"
   },
   "outputs": [],
   "source": [
    "# Use for Google Colab\n",
    "df = pd.read_csv(\"/content/drive/MyDrive/rapid_data.csv\")\n",
    "\n",
    "print(df)"
   ]
  },
  {
   "cell_type": "code",
   "execution_count": 8,
   "metadata": {},
   "outputs": [
    {
     "name": "stdout",
     "output_type": "stream",
     "text": [
      "    Unnamed: 0  bathrooms  bedrooms           city country currency  \\\n",
      "0            0        2.0         4     Pittsburgh     USA      USD   \n",
      "1            1        1.0         2  Mt Washington     USA      USD   \n",
      "2            2        1.5         3     Pittsburgh     USA      USD   \n",
      "3            3        2.0         4     Pittsburgh     USA      USD   \n",
      "4            4        1.0         1     Pittsburgh     USA      USD   \n",
      "5            5        1.0         3     Pittsburgh     USA      USD   \n",
      "6            6        1.0         2     Pittsburgh     USA      USD   \n",
      "7            7        3.0         5     Pittsburgh     USA      USD   \n",
      "8            8        1.5         2     Pittsburgh     USA      USD   \n",
      "9            9        2.0         3     Pittsburgh     USA      USD   \n",
      "10          10        2.0         3     Pittsburgh     USA      USD   \n",
      "11          11        1.0         2     Pittsburgh     USA      USD   \n",
      "12          12        1.0         4     Pittsburgh     USA      USD   \n",
      "13          13        2.0         3     Pittsburgh     USA      USD   \n",
      "14          14        2.0         3     Pittsburgh     USA      USD   \n",
      "15          15        1.5         3     Pittsburgh     USA      USD   \n",
      "16          16        1.0         2     Pittsburgh     USA      USD   \n",
      "17          17        1.5         2     Pittsburgh     USA      USD   \n",
      "18          18        1.0         4     Pittsburgh     USA      USD   \n",
      "19          19        1.0         2     Pittsburgh     USA      USD   \n",
      "20          20        1.0         2     Pittsburgh     USA      USD   \n",
      "21          21        1.0         1     Pittsburgh     USA      USD   \n",
      "22          22        1.0         2     Pittsburgh     USA      USD   \n",
      "23          23        1.0         3     Pittsburgh     USA      USD   \n",
      "24          24        1.0         2     Pittsburgh     USA      USD   \n",
      "25          25        1.0         1     Pittsburgh     USA      USD   \n",
      "26          26        2.0         2     Pittsburgh     USA      USD   \n",
      "\n",
      "    daysOnZillow homeStatus homeStatusForHDP       homeType  ... state  \\\n",
      "0              0   FOR_RENT         FOR_RENT      APARTMENT  ...    PA   \n",
      "1              0   FOR_RENT         FOR_RENT      APARTMENT  ...    PA   \n",
      "2              0   FOR_RENT         FOR_RENT  SINGLE_FAMILY  ...    PA   \n",
      "3              0   FOR_RENT         FOR_RENT  SINGLE_FAMILY  ...    PA   \n",
      "4              0   FOR_RENT         FOR_RENT      APARTMENT  ...    PA   \n",
      "5              0   FOR_RENT         FOR_RENT  SINGLE_FAMILY  ...    PA   \n",
      "6              0   FOR_RENT         FOR_RENT  SINGLE_FAMILY  ...    PA   \n",
      "7              0   FOR_RENT         FOR_RENT  SINGLE_FAMILY  ...    PA   \n",
      "8              0   FOR_RENT         FOR_RENT      TOWNHOUSE  ...    PA   \n",
      "9              0   FOR_RENT         FOR_RENT  SINGLE_FAMILY  ...    PA   \n",
      "10             0   FOR_RENT         FOR_RENT      APARTMENT  ...    PA   \n",
      "11             0   FOR_RENT         FOR_RENT      APARTMENT  ...    PA   \n",
      "12             0   FOR_RENT         FOR_RENT  SINGLE_FAMILY  ...    PA   \n",
      "13             0   FOR_RENT         FOR_RENT      APARTMENT  ...    PA   \n",
      "14             0   FOR_RENT         FOR_RENT      APARTMENT  ...    PA   \n",
      "15             0   FOR_RENT         FOR_RENT  SINGLE_FAMILY  ...    PA   \n",
      "16             0   FOR_RENT         FOR_RENT  SINGLE_FAMILY  ...    PA   \n",
      "17             0   FOR_RENT         FOR_RENT      APARTMENT  ...    PA   \n",
      "18             0   FOR_RENT         FOR_RENT  SINGLE_FAMILY  ...    PA   \n",
      "19             0   FOR_RENT         FOR_RENT  SINGLE_FAMILY  ...    PA   \n",
      "20             0   FOR_RENT         FOR_RENT      APARTMENT  ...    PA   \n",
      "21             0   FOR_RENT         FOR_RENT      APARTMENT  ...    PA   \n",
      "22             0   FOR_RENT         FOR_RENT      APARTMENT  ...    PA   \n",
      "23             0   FOR_RENT         FOR_RENT  SINGLE_FAMILY  ...    PA   \n",
      "24             0   FOR_RENT         FOR_RENT      TOWNHOUSE  ...    PA   \n",
      "25             0   FOR_RENT         FOR_RENT      APARTMENT  ...    PA   \n",
      "26             0   FOR_RENT         FOR_RENT  SINGLE_FAMILY  ...    PA   \n",
      "\n",
      "                    streetAddress     unit  zipcode        zpid  \\\n",
      "0               2353 Sidney St #2      # 2    15203  2098914984   \n",
      "1              441 Edgemont St #2      # 2    15211  2086781605   \n",
      "2                   200 S 15th St      NaN    15203    11475209   \n",
      "3                 5317 Forbes Ave      NaN    15217    11534025   \n",
      "4              4711 Maripoe St #1      # 1    15213  2059530905   \n",
      "5                   1625 Hybla St      NaN    15212    11604341   \n",
      "6             3202 Hazelhurst Ave      NaN    15227    11302681   \n",
      "7                4245 Parkman Ave      NaN    15213    11407517   \n",
      "8              1007 Galveston Ave      NaN    15233    11376515   \n",
      "9                 11370 Althea Rd      NaN    15235    11492124   \n",
      "10              333 Lehigh Ave #2      # 2    15232  2079280225   \n",
      "11  1465 Old Steubenville Pike #B      # B    15205  2061122184   \n",
      "12                223 Carnegie Pl      NaN    15208    11341130   \n",
      "13         5541 Beacon St FLOOR 1  Floor 1    15217  2075424395   \n",
      "14               6116 Stanton Ave      NaN    15206    11623060   \n",
      "15               2801 Larkins Way      NaN    15203    11292138   \n",
      "16                 637 Danbury St      NaN    15214    11498827   \n",
      "17            1806 Rhine St #1804   # 1804    15212  2059547162   \n",
      "18            4008 Woolslayer Way      NaN    15224    11514773   \n",
      "19            3220 1/2 Hardie Way      NaN    15213    11419823   \n",
      "20            514 Parallel Ave #2      # 2    15210  2059539319   \n",
      "21            2525 Sarah St APT 6    Apt 6    15203  2096869965   \n",
      "22      230 Clairmont Ave FLOOR 2  Floor 2    15229  2067564948   \n",
      "23          7708 Westmoreland Ave      NaN    15218    11345320   \n",
      "24           2507 Wedgemere St #2      # 2    15226  2100972404   \n",
      "25               252 Atwood St #1      # 1    15213  2080180171   \n",
      "26                  1315 Diana St      NaN    15212    11394607   \n",
      "\n",
      "    taxAssessedValue  zestimate  datePriceChanged  priceChange  priceReduction  \n",
      "0                NaN        NaN               NaN          NaN             NaN  \n",
      "1                NaN        NaN               NaN          NaN             NaN  \n",
      "2            87400.0   185600.0               NaN          NaN             NaN  \n",
      "3           177100.0   515100.0               NaN          NaN             NaN  \n",
      "4                NaN        NaN               NaN          NaN             NaN  \n",
      "5            64800.0   145000.0               NaN          NaN             NaN  \n",
      "6            82500.0   162400.0               NaN          NaN             NaN  \n",
      "7           354000.0   629700.0               NaN          NaN             NaN  \n",
      "8           123100.0   240800.0               NaN          NaN             NaN  \n",
      "9            47200.0   132000.0               NaN          NaN             NaN  \n",
      "10               NaN        NaN               NaN          NaN             NaN  \n",
      "11               NaN        NaN               NaN          NaN             NaN  \n",
      "12          156800.0   389600.0      1.675411e+12       -500.0    $500 (Feb 3)  \n",
      "13               NaN        NaN      1.674547e+12         75.0             NaN  \n",
      "14          237200.0        NaN      1.672992e+12       -100.0    $100 (Jan 6)  \n",
      "15          101800.0   205300.0               NaN          NaN             NaN  \n",
      "16           43200.0    89600.0               NaN          NaN             NaN  \n",
      "17               NaN        NaN               NaN          NaN             NaN  \n",
      "18           72400.0        NaN               NaN          NaN             NaN  \n",
      "19           35900.0   114800.0               NaN          NaN             NaN  \n",
      "20               NaN        NaN               NaN          NaN             NaN  \n",
      "21               NaN        NaN               NaN          NaN             NaN  \n",
      "22               NaN        NaN               NaN          NaN             NaN  \n",
      "23           22400.0   108000.0               NaN          NaN             NaN  \n",
      "24               NaN   160400.0               NaN          NaN             NaN  \n",
      "25               NaN        NaN      1.675411e+12        -50.0     $50 (Feb 3)  \n",
      "26           27700.0   165200.0               NaN          NaN             NaN  \n",
      "\n",
      "[27 rows x 35 columns]\n"
     ]
    }
   ],
   "source": [
    "# Use locally\n",
    "df = pd.read_csv(\"data/rapid_data.csv\")\n",
    "\n",
    "print(df)"
   ]
  },
  {
   "cell_type": "code",
   "execution_count": 10,
   "metadata": {
    "id": "Tz1qSJyeNJ4A"
   },
   "outputs": [],
   "source": [
    "'''\n",
    "  Create an OOP structure for how we want to store all of our data.\n",
    "  Example format: \n",
    "\n",
    "    class Listing: # abstraction?\n",
    "      def get_type(self) -> str: \n",
    "        # Manual, Zillow, CMU\n",
    "        pass \n",
    "      def get_housing_info(self) -> str: \n",
    "        # String data (paragraphs?) about housing\n",
    "        pass\n",
    "      def get_address(self) -> dict: \n",
    "        pass\n",
    "      def distance_from_cmu(self) -> float: \n",
    "        pass\n",
    "\n",
    "    class SchoolListing(Listing): \n",
    "      def __init__(self, address): \n",
    "        # Some stuff here\n",
    "        self.get_type = \"CMU\"\n",
    "        # self.distance_from_cmu \n",
    "'''"
   ]
  },
  {
   "cell_type": "code",
   "execution_count": 11,
   "metadata": {
    "colab": {
     "base_uri": "https://localhost:8080/"
    },
    "id": "Us3JoRn2Nenn",
    "outputId": "8cd483c4-f10c-476c-e3d8-7895b54c5452"
   },
   "outputs": [
    {
     "name": "stdout",
     "output_type": "stream",
     "text": [
      "                         Address1   Latitude  Longitude\n",
      "0               2353 Sidney St #2  40.429380 -79.971140\n",
      "1              441 Edgemont St #2  40.422600 -79.998880\n",
      "2                   200 S 15th St  40.424866 -79.983440\n",
      "3                 5317 Forbes Ave  40.440155 -79.934940\n",
      "4              4711 Maripoe St #1  40.455498 -79.949670\n",
      "5                   1625 Hybla St  40.474262 -80.037970\n",
      "6             3202 Hazelhurst Ave  40.383247 -79.965300\n",
      "7                4245 Parkman Ave  40.448345 -79.957280\n",
      "8              1007 Galveston Ave  40.453010 -80.017100\n",
      "9                 11370 Althea Rd  40.468670 -79.832700\n",
      "10              333 Lehigh Ave #2  40.456150 -79.926100\n",
      "11  1465 Old Steubenville Pike #B  40.450570 -80.114400\n",
      "12                223 Carnegie Pl  40.446510 -79.898950\n",
      "13         5541 Beacon St FLOOR 1  40.434210 -79.928990\n",
      "14               6116 Stanton Ave  40.468600 -79.918110\n",
      "15               2801 Larkins Way  40.425310 -79.966675\n",
      "16                 637 Danbury St  40.468822 -80.018380\n",
      "17            1806 Rhine St #1804  40.464684 -79.991760\n",
      "18            4008 Woolslayer Way  40.464664 -79.957400\n",
      "19            3220 1/2 Hardie Way  40.431488 -79.955870\n",
      "20            514 Parallel Ave #2  40.403587 -79.978990\n",
      "21            2525 Sarah St APT 6  40.426945 -79.969185\n",
      "22      230 Clairmont Ave FLOOR 2  40.518166 -80.021194\n",
      "23          7708 Westmoreland Ave  40.422935 -79.883320\n",
      "24           2507 Wedgemere St #2  40.396347 -80.020950\n",
      "25               252 Atwood St #1  40.439766 -79.956350\n",
      "26                  1315 Diana St  40.461582 -79.990480\n",
      "                         Address1   Latitude  Longitude  Walking Distance  \\\n",
      "0               2353 Sidney St #2  40.429380 -79.971140          1.722332   \n",
      "1              441 Edgemont St #2  40.422600 -79.998880          3.225751   \n",
      "2                   200 S 15th St  40.424866 -79.983440          2.436547   \n",
      "3                 5317 Forbes Ave  40.440155 -79.934940          0.525712   \n",
      "4              4711 Maripoe St #1  40.455498 -79.949670          0.892737   \n",
      "5                   1625 Hybla St  40.474262 -80.037970          5.392646   \n",
      "6             3202 Hazelhurst Ave  40.383247 -79.965300          4.292837   \n",
      "7                4245 Parkman Ave  40.448345 -79.957280          0.780735   \n",
      "8              1007 Galveston Ave  40.453010 -80.017100          3.909921   \n",
      "9                 11370 Althea Rd  40.468670 -79.832700          6.123022   \n",
      "10              333 Lehigh Ave #2  40.456150 -79.926100          1.295638   \n",
      "11  1465 Old Steubenville Pike #B  40.450570 -80.114400          8.995203   \n",
      "12                223 Carnegie Pl  40.446510 -79.898950          2.386338   \n",
      "13         5541 Beacon St FLOOR 1  40.434210 -79.928990          1.010694   \n",
      "14               6116 Stanton Ave  40.468600 -79.918110          2.216478   \n",
      "15               2801 Larkins Way  40.425310 -79.966675          1.722539   \n",
      "16                 637 Danbury St  40.468822 -80.018380          4.296567   \n",
      "17            1806 Rhine St #1804  40.464684 -79.991760          2.916840   \n",
      "18            4008 Woolslayer Way  40.464664 -79.957400          1.634044   \n",
      "19            3220 1/2 Hardie Way  40.431488 -79.955870          1.026821   \n",
      "20            514 Parallel Ave #2  40.403587 -79.978990          3.302774   \n",
      "21            2525 Sarah St APT 6  40.426945 -79.969185          1.741657   \n",
      "22      230 Clairmont Ave FLOOR 2  40.518166 -80.021194          6.573919   \n",
      "23          7708 Westmoreland Ave  40.422935 -79.883320          3.495413   \n",
      "24           2507 Wedgemere St #2  40.396347 -80.020950          5.191605   \n",
      "25               252 Atwood St #1  40.439766 -79.956350          0.694096   \n",
      "26                  1315 Diana St  40.461582 -79.990480          2.754537   \n",
      "\n",
      "    Driving Distance  \n",
      "0           2.555264  \n",
      "1           5.092446  \n",
      "2           4.632694  \n",
      "3           1.310844  \n",
      "4           1.255604  \n",
      "5           7.292783  \n",
      "6           6.952023  \n",
      "7           1.173832  \n",
      "8           5.296566  \n",
      "9           7.595701  \n",
      "10          2.164173  \n",
      "11         12.796266  \n",
      "12          3.330114  \n",
      "13          1.735551  \n",
      "14          3.133139  \n",
      "15          2.303049  \n",
      "16          6.674581  \n",
      "17          4.719748  \n",
      "18          2.237868  \n",
      "19          1.557653  \n",
      "20          5.687782  \n",
      "21          2.453235  \n",
      "22          8.296546  \n",
      "23          6.142625  \n",
      "24          6.571620  \n",
      "25          1.003079  \n",
      "26          5.663300  \n"
     ]
    }
   ],
   "source": [
    "addresses = df.loc[:, \"streetAddress\"]\n",
    "lat = df.loc[:, \"latitude\"]\n",
    "longi = df.loc[:, \"longitude\"]\n",
    "cmu_address = (40.4433, -79.944023)\n",
    "distance_df = pd.DataFrame(columns = ['Address1', 'Latitude', 'Longitude'])\n",
    "distance_df['Address1'] = addresses\n",
    "distance_df['Latitude'] = lat\n",
    "distance_df['Longitude'] = longi\n",
    "print(distance_df)\n",
    "walking = []\n",
    "driving = []\n",
    "for i in range(len(addresses)):\n",
    "  d = distance.distance((distance_df.loc[i, \"Latitude\"], distance_df.loc[i, \"Longitude\"]), (cmu_address[0],cmu_address[1]))\n",
    "  walking.append(d.miles)\n",
    "  r = requests.get(f\"\"\"http://router.project-osrm.org/route/v1/car/{distance_df.loc[i, \"Longitude\"]},{distance_df.loc[i, \"Latitude\"]};{cmu_address[1]},{cmu_address[0]}?overview=false\"\"\")\n",
    "  route_1 = json.loads(r.content)[\"routes\"][0]\n",
    "  driving.append(route_1[\"distance\"]*0.000621371)\n",
    "distance_df[\"Walking Distance\"] = walking\n",
    "distance_df[\"Driving Distance\"] = driving\n",
    "print(distance_df)\n",
    "\n"
   ]
  },
  {
   "cell_type": "code",
   "execution_count": null,
   "metadata": {},
   "outputs": [],
   "source": [
    "class Listing: \n",
    "    def __init__(self):\n",
    "        "
   ]
  },
  {
   "cell_type": "code",
   "execution_count": 18,
   "metadata": {},
   "outputs": [
    {
     "name": "stdout",
     "output_type": "stream",
     "text": [
      "0                 2353 Sidney St #2\n",
      "1                441 Edgemont St #2\n",
      "2                     200 S 15th St\n",
      "3                   5317 Forbes Ave\n",
      "4                4711 Maripoe St #1\n",
      "5                     1625 Hybla St\n",
      "6               3202 Hazelhurst Ave\n",
      "7                  4245 Parkman Ave\n",
      "8                1007 Galveston Ave\n",
      "9                   11370 Althea Rd\n",
      "10                333 Lehigh Ave #2\n",
      "11    1465 Old Steubenville Pike #B\n",
      "12                  223 Carnegie Pl\n",
      "13           5541 Beacon St FLOOR 1\n",
      "14                 6116 Stanton Ave\n",
      "15                 2801 Larkins Way\n",
      "16                   637 Danbury St\n",
      "17              1806 Rhine St #1804\n",
      "18              4008 Woolslayer Way\n",
      "19              3220 1/2 Hardie Way\n",
      "20              514 Parallel Ave #2\n",
      "21              2525 Sarah St APT 6\n",
      "22        230 Clairmont Ave FLOOR 2\n",
      "23            7708 Westmoreland Ave\n",
      "24             2507 Wedgemere St #2\n",
      "25                 252 Atwood St #1\n",
      "26                    1315 Diana St\n",
      "Name: Address1, dtype: object\n"
     ]
    }
   ],
   "source": [
    "# print(type(distance_df))\n",
    "print(distance_df[\"Address1\"])"
   ]
  }
 ],
 "metadata": {
  "colab": {
   "include_colab_link": true,
   "provenance": []
  },
  "kernelspec": {
   "display_name": "Python 3 (ipykernel)",
   "language": "python",
   "name": "python3"
  },
  "language_info": {
   "codemirror_mode": {
    "name": "ipython",
    "version": 3
   },
   "file_extension": ".py",
   "mimetype": "text/x-python",
   "name": "python",
   "nbconvert_exporter": "python",
   "pygments_lexer": "ipython3",
   "version": "3.9.5"
  },
  "vscode": {
   "interpreter": {
    "hash": "31f2aee4e71d21fbe5cf8b01ff0e069b9275f58929596ceb00d14d90e3e16cd6"
   }
  }
 },
 "nbformat": 4,
 "nbformat_minor": 1
}
