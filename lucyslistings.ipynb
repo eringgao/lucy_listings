{
  "cells": [
    {
      "cell_type": "markdown",
      "metadata": {
        "colab_type": "text",
        "id": "view-in-github"
      },
      "source": [
        "<a href=\"https://colab.research.google.com/github/eringgao/lucy_listings/blob/main/lucyslistings.ipynb\" target=\"_parent\"><img src=\"https://colab.research.google.com/assets/colab-badge.svg\" alt=\"Open In Colab\"/></a>"
      ]
    },
    {
      "cell_type": "markdown",
      "metadata": {
        "id": "iMsQe7ZIOgMy"
      },
      "source": [
        "# Installations and Declarations"
      ]
    },
    {
      "cell_type": "code",
      "execution_count": 26,
      "metadata": {
        "id": "H1k9VBgDJijg"
      },
      "outputs": [],
      "source": [
        "import pandas as pd\n",
        "import numpy as np\n",
        "from geopy import distance\n",
        "import requests\n",
        "import json\n",
        "import datetime\n",
        "import math\n",
        "import itertools\n",
        "import json\n",
        "from abc import ABC, abstractmethod"
      ]
    },
    {
      "cell_type": "markdown",
      "metadata": {
        "id": "_2kEDZdQOw4w"
      },
      "source": [
        "# Data Processsing"
      ]
    },
    {
      "cell_type": "code",
      "execution_count": 94,
      "metadata": {
        "colab": {
          "base_uri": "https://localhost:8080/"
        },
        "id": "zYwRztMZKQj3",
        "outputId": "7f83692f-0050-4254-b8a6-e08175962871"
      },
      "outputs": [
        {
          "name": "stdout",
          "output_type": "stream",
          "text": [
            "    Unnamed: 0  bathrooms  bedrooms           city country       homeType  \\\n",
            "0            0        2.0         4     Pittsburgh     USA      APARTMENT   \n",
            "1            1        1.0         2  Mt Washington     USA      APARTMENT   \n",
            "2            2        1.5         3     Pittsburgh     USA  SINGLE_FAMILY   \n",
            "3            3        2.0         4     Pittsburgh     USA  SINGLE_FAMILY   \n",
            "4            4        1.0         1     Pittsburgh     USA      APARTMENT   \n",
            "5            5        1.0         3     Pittsburgh     USA  SINGLE_FAMILY   \n",
            "6            6        1.0         2     Pittsburgh     USA  SINGLE_FAMILY   \n",
            "7            7        3.0         5     Pittsburgh     USA  SINGLE_FAMILY   \n",
            "8            8        1.5         2     Pittsburgh     USA      TOWNHOUSE   \n",
            "9            9        2.0         3     Pittsburgh     USA  SINGLE_FAMILY   \n",
            "10          10        2.0         3     Pittsburgh     USA      APARTMENT   \n",
            "11          11        1.0         2     Pittsburgh     USA      APARTMENT   \n",
            "12          12        1.0         4     Pittsburgh     USA  SINGLE_FAMILY   \n",
            "13          13        2.0         3     Pittsburgh     USA      APARTMENT   \n",
            "14          14        2.0         3     Pittsburgh     USA      APARTMENT   \n",
            "15          15        1.5         3     Pittsburgh     USA  SINGLE_FAMILY   \n",
            "16          16        1.0         2     Pittsburgh     USA  SINGLE_FAMILY   \n",
            "17          17        1.5         2     Pittsburgh     USA      APARTMENT   \n",
            "18          18        1.0         4     Pittsburgh     USA  SINGLE_FAMILY   \n",
            "19          19        1.0         2     Pittsburgh     USA  SINGLE_FAMILY   \n",
            "20          20        1.0         2     Pittsburgh     USA      APARTMENT   \n",
            "21          21        1.0         1     Pittsburgh     USA      APARTMENT   \n",
            "22          22        1.0         2     Pittsburgh     USA      APARTMENT   \n",
            "23          23        1.0         3     Pittsburgh     USA  SINGLE_FAMILY   \n",
            "24          24        1.0         2     Pittsburgh     USA      TOWNHOUSE   \n",
            "25          25        1.0         1     Pittsburgh     USA      APARTMENT   \n",
            "26          26        2.0         2     Pittsburgh     USA  SINGLE_FAMILY   \n",
            "\n",
            "                                               imgSrc   latitude  livingArea  \\\n",
            "0   https://photos.zillowstatic.com/fp/b248d9fa8d7...  40.429380      1700.0   \n",
            "1   https://photos.zillowstatic.com/fp/c89f4243f58...  40.422600       100.0   \n",
            "2   https://photos.zillowstatic.com/fp/53ceaaa899c...  40.424866      1650.0   \n",
            "3   https://photos.zillowstatic.com/fp/17e09173d09...  40.440155      1700.0   \n",
            "4   https://maps.googleapis.com/maps/api/staticmap...  40.455498         NaN   \n",
            "5   https://photos.zillowstatic.com/fp/ff0c59895d0...  40.474262      1320.0   \n",
            "6   https://photos.zillowstatic.com/fp/86ddc87e310...  40.383247      1300.0   \n",
            "7   https://photos.zillowstatic.com/fp/1beec39a300...  40.448345      2888.0   \n",
            "8   https://photos.zillowstatic.com/fp/61ae6156f9b...  40.453010      1433.0   \n",
            "9   https://photos.zillowstatic.com/fp/833b0c10e43...  40.468670       912.0   \n",
            "10  https://photos.zillowstatic.com/fp/1ad8cfb9714...  40.456150      1400.0   \n",
            "11  https://photos.zillowstatic.com/fp/f130072238c...  40.450570         NaN   \n",
            "12  https://photos.zillowstatic.com/fp/6d26bb52993...  40.446510      1919.0   \n",
            "13  https://photos.zillowstatic.com/fp/0e02a715ea4...  40.434210      1650.0   \n",
            "14  https://photos.zillowstatic.com/fp/6bbf7ce82b4...  40.468600      1070.0   \n",
            "15  https://photos.zillowstatic.com/fp/fa0c8868257...  40.425310      1500.0   \n",
            "16  https://photos.zillowstatic.com/fp/ff150e70ee0...  40.468822      1020.0   \n",
            "17  https://maps.googleapis.com/maps/api/staticmap...  40.464684       910.0   \n",
            "18  https://photos.zillowstatic.com/fp/44b0e96f82b...  40.464664      1920.0   \n",
            "19  https://maps.googleapis.com/maps/api/staticmap...  40.431488      1000.0   \n",
            "20  https://photos.zillowstatic.com/fp/1e352cf90f3...  40.403587      1100.0   \n",
            "21  https://maps.googleapis.com/maps/api/staticmap...  40.426945       750.0   \n",
            "22  https://photos.zillowstatic.com/fp/b7b6d64d682...  40.518166       864.0   \n",
            "23  https://photos.zillowstatic.com/fp/c00f2f807ca...  40.422935      1424.0   \n",
            "24  https://photos.zillowstatic.com/fp/09248a9cff7...  40.396347       900.0   \n",
            "25  https://photos.zillowstatic.com/fp/b9cc8a65672...  40.439766         NaN   \n",
            "26  https://photos.zillowstatic.com/fp/69fb830568e...  40.461582      1412.0   \n",
            "\n",
            "    longitude  price  rentZestimate state                  streetAddress  \\\n",
            "0  -79.971140   2700         2062.0    PA              2353 Sidney St #2   \n",
            "1  -79.998880   1200         1134.0    PA             441 Edgemont St #2   \n",
            "2  -79.983440   1500         1433.0    PA                  200 S 15th St   \n",
            "3  -79.934940   3760         3349.0    PA                5317 Forbes Ave   \n",
            "4  -79.949670    850            NaN    PA             4711 Maripoe St #1   \n",
            "5  -80.037970   1100         1207.0    PA                  1625 Hybla St   \n",
            "6  -79.965300   1290         1125.0    PA            3202 Hazelhurst Ave   \n",
            "7  -79.957280   4250         4137.0    PA               4245 Parkman Ave   \n",
            "8  -80.017100   1500         1622.0    PA             1007 Galveston Ave   \n",
            "9  -79.832700   1400         1394.0    PA                11370 Althea Rd   \n",
            "10 -79.926100   2995         2195.0    PA              333 Lehigh Ave #2   \n",
            "11 -80.114400   1250            NaN    PA  1465 Old Steubenville Pike #B   \n",
            "12 -79.898950   2500         2647.0    PA                223 Carnegie Pl   \n",
            "13 -79.928990   2475         2499.0    PA         5541 Beacon St FLOOR 1   \n",
            "14 -79.918110   1880         4126.0    PA               6116 Stanton Ave   \n",
            "15 -79.966675   1650         1529.0    PA               2801 Larkins Way   \n",
            "16 -80.018380   1300          999.0    PA                 637 Danbury St   \n",
            "17 -79.991760    899            NaN    PA            1806 Rhine St #1804   \n",
            "18 -79.957400   1895         1870.0    PA            4008 Woolslayer Way   \n",
            "19 -79.955870    950         1825.0    PA            3220 1/2 Hardie Way   \n",
            "20 -79.978990   1350            NaN    PA            514 Parallel Ave #2   \n",
            "21 -79.969185    850         1673.0    PA            2525 Sarah St APT 6   \n",
            "22 -80.021194    900         1194.0    PA      230 Clairmont Ave FLOOR 2   \n",
            "23 -79.883320   1135         1485.0    PA          7708 Westmoreland Ave   \n",
            "24 -80.020950   1000         1095.0    PA           2507 Wedgemere St #2   \n",
            "25 -79.956350    925            NaN    PA               252 Atwood St #1   \n",
            "26 -79.990480   1250         1384.0    PA                  1315 Diana St   \n",
            "\n",
            "       unit  zipcode  zestimate  \n",
            "0       # 2    15203        NaN  \n",
            "1       # 2    15211        NaN  \n",
            "2       NaN    15203   185600.0  \n",
            "3       NaN    15217   515100.0  \n",
            "4       # 1    15213        NaN  \n",
            "5       NaN    15212   145000.0  \n",
            "6       NaN    15227   162400.0  \n",
            "7       NaN    15213   629700.0  \n",
            "8       NaN    15233   240800.0  \n",
            "9       NaN    15235   132000.0  \n",
            "10      # 2    15232        NaN  \n",
            "11      # B    15205        NaN  \n",
            "12      NaN    15208   389600.0  \n",
            "13  Floor 1    15217        NaN  \n",
            "14      NaN    15206        NaN  \n",
            "15      NaN    15203   205300.0  \n",
            "16      NaN    15214    89600.0  \n",
            "17   # 1804    15212        NaN  \n",
            "18      NaN    15224        NaN  \n",
            "19      NaN    15213   114800.0  \n",
            "20      # 2    15210        NaN  \n",
            "21    Apt 6    15203        NaN  \n",
            "22  Floor 2    15229        NaN  \n",
            "23      NaN    15218   108000.0  \n",
            "24      # 2    15226   160400.0  \n",
            "25      # 1    15213        NaN  \n",
            "26      NaN    15212   165200.0  \n"
          ]
        }
      ],
      "source": [
        "df = pd.read_csv(\"Data/rapid_data.csv\")\n",
        "cmu_df = pd.read_csv(\"Data/CMU_listing_data.csv\")\n",
        "\n",
        "df = df.drop(columns = [\"currency\", \"daysOnZillow\", \"homeStatusForHDP\", \"zpid\", \"datePriceChanged\", \"priceChange\", \"priceReduction\", \"taxAssessedValue\", \"isFeatured\", \"isNonOwnerOccupied\", \"priceForHDP\", \"shouldHighlight\", \"homeStatus\", \"isPreforeclosureAuction\", \"isPremierBuilder\", \"isZillowOwned\", \"isRentalWithBasePrice\", \"isUnmappable\"])\n",
        "\n",
        "print(df)"
      ]
    },
    {
      "cell_type": "code",
      "execution_count": 95,
      "metadata": {
        "id": "Tz1qSJyeNJ4A"
      },
      "outputs": [],
      "source": [
        "'''\n",
        "  Create an OOP structure for how we want to store all of our data.\n",
        "  Example format: \n",
        "'''\n",
        "class Listing: # abstraction?\n",
        "  def get_type(self) -> str: \n",
        "    # Manual, Zillow, CMU\n",
        "    pass \n",
        "  def get_housing_info(self) -> str: \n",
        "    # String data (paragraphs?) about housing\n",
        "    pass\n",
        "  def get_address(self) -> dict: \n",
        "    pass\n",
        "  def distance_from_cmu(self) -> float: \n",
        "    pass\n",
        "\n",
        "class SchoolListing(Listing): \n",
        "  def __init__(self, address): \n",
        "    # Some stuff here\n",
        "    self.get_type = \"CMU\"\n",
        "    # self.distance_from_cmu \n"
      ]
    },
    {
      "cell_type": "code",
      "execution_count": 96,
      "metadata": {
        "id": "Us3JoRn2Nenn"
      },
      "outputs": [],
      "source": [
        "addresses = df.loc[:, \"streetAddress\"]\n",
        "city = df.loc[:, \"city\"]\n",
        "state = df.loc[:, \"state\"]\n",
        "house_type = df.loc[:, \"homeType\"]\n",
        "lat = df.loc[:, \"latitude\"]\n",
        "longi = df.loc[:, \"longitude\"]\n",
        "price = df.loc[:, \"price\"]\n",
        "zip = df.loc[:, \"zipcode\"]\n",
        "cmu_address = (40.4433, -79.944023)\n",
        "distance_df = pd.DataFrame(columns = ['addr', 'Latitude', 'Longitude'])\n",
        "\n",
        "distance_df['addr'] = addresses\n",
        "distance_df['city'] = city\n",
        "distance_df['state'] = state\n",
        "distance_df['house_type'] = house_type\n",
        "distance_df['Latitude'] = lat\n",
        "distance_df['Longitude'] = longi\n",
        "distance_df['price'] = price\n",
        "distance_df['zip'] = zip"
      ]
    },
    {
      "cell_type": "code",
      "execution_count": 97,
      "metadata": {
        "colab": {
          "base_uri": "https://localhost:8080/"
        },
        "id": "_bHe6G9uYCDe",
        "outputId": "69b87e13-bb6d-4a99-cdc6-b78e54f13500"
      },
      "outputs": [
        {
          "name": "stdout",
          "output_type": "stream",
          "text": [
            "                             addr   Latitude  Longitude           city state  \\\n",
            "0               2353 Sidney St #2  40.429380 -79.971140     Pittsburgh    PA   \n",
            "1              441 Edgemont St #2  40.422600 -79.998880  Mt Washington    PA   \n",
            "2                   200 S 15th St  40.424866 -79.983440     Pittsburgh    PA   \n",
            "3                 5317 Forbes Ave  40.440155 -79.934940     Pittsburgh    PA   \n",
            "4              4711 Maripoe St #1  40.455498 -79.949670     Pittsburgh    PA   \n",
            "5                   1625 Hybla St  40.474262 -80.037970     Pittsburgh    PA   \n",
            "6             3202 Hazelhurst Ave  40.383247 -79.965300     Pittsburgh    PA   \n",
            "7                4245 Parkman Ave  40.448345 -79.957280     Pittsburgh    PA   \n",
            "8              1007 Galveston Ave  40.453010 -80.017100     Pittsburgh    PA   \n",
            "9                 11370 Althea Rd  40.468670 -79.832700     Pittsburgh    PA   \n",
            "10              333 Lehigh Ave #2  40.456150 -79.926100     Pittsburgh    PA   \n",
            "11  1465 Old Steubenville Pike #B  40.450570 -80.114400     Pittsburgh    PA   \n",
            "12                223 Carnegie Pl  40.446510 -79.898950     Pittsburgh    PA   \n",
            "13         5541 Beacon St FLOOR 1  40.434210 -79.928990     Pittsburgh    PA   \n",
            "14               6116 Stanton Ave  40.468600 -79.918110     Pittsburgh    PA   \n",
            "15               2801 Larkins Way  40.425310 -79.966675     Pittsburgh    PA   \n",
            "16                 637 Danbury St  40.468822 -80.018380     Pittsburgh    PA   \n",
            "17            1806 Rhine St #1804  40.464684 -79.991760     Pittsburgh    PA   \n",
            "18            4008 Woolslayer Way  40.464664 -79.957400     Pittsburgh    PA   \n",
            "19            3220 1/2 Hardie Way  40.431488 -79.955870     Pittsburgh    PA   \n",
            "20            514 Parallel Ave #2  40.403587 -79.978990     Pittsburgh    PA   \n",
            "21            2525 Sarah St APT 6  40.426945 -79.969185     Pittsburgh    PA   \n",
            "22      230 Clairmont Ave FLOOR 2  40.518166 -80.021194     Pittsburgh    PA   \n",
            "23          7708 Westmoreland Ave  40.422935 -79.883320     Pittsburgh    PA   \n",
            "24           2507 Wedgemere St #2  40.396347 -80.020950     Pittsburgh    PA   \n",
            "25               252 Atwood St #1  40.439766 -79.956350     Pittsburgh    PA   \n",
            "26                  1315 Diana St  40.461582 -79.990480     Pittsburgh    PA   \n",
            "\n",
            "       house_type  price    zip  \n",
            "0       APARTMENT   2700  15203  \n",
            "1       APARTMENT   1200  15211  \n",
            "2   SINGLE_FAMILY   1500  15203  \n",
            "3   SINGLE_FAMILY   3760  15217  \n",
            "4       APARTMENT    850  15213  \n",
            "5   SINGLE_FAMILY   1100  15212  \n",
            "6   SINGLE_FAMILY   1290  15227  \n",
            "7   SINGLE_FAMILY   4250  15213  \n",
            "8       TOWNHOUSE   1500  15233  \n",
            "9   SINGLE_FAMILY   1400  15235  \n",
            "10      APARTMENT   2995  15232  \n",
            "11      APARTMENT   1250  15205  \n",
            "12  SINGLE_FAMILY   2500  15208  \n",
            "13      APARTMENT   2475  15217  \n",
            "14      APARTMENT   1880  15206  \n",
            "15  SINGLE_FAMILY   1650  15203  \n",
            "16  SINGLE_FAMILY   1300  15214  \n",
            "17      APARTMENT    899  15212  \n",
            "18  SINGLE_FAMILY   1895  15224  \n",
            "19  SINGLE_FAMILY    950  15213  \n",
            "20      APARTMENT   1350  15210  \n",
            "21      APARTMENT    850  15203  \n",
            "22      APARTMENT    900  15229  \n",
            "23  SINGLE_FAMILY   1135  15218  \n",
            "24      TOWNHOUSE   1000  15226  \n",
            "25      APARTMENT    925  15213  \n",
            "26  SINGLE_FAMILY   1250  15212  \n"
          ]
        }
      ],
      "source": [
        "print(distance_df)"
      ]
    },
    {
      "cell_type": "code",
      "execution_count": 98,
      "metadata": {
        "id": "-RKARUu0YBEd"
      },
      "outputs": [],
      "source": [
        "walking = []\n",
        "driving = []\n",
        "for i in range(len(addresses)):\n",
        "  d = distance.distance((distance_df.loc[i, \"Latitude\"], distance_df.loc[i, \"Longitude\"]), (cmu_address[0],cmu_address[1]))\n",
        "  walking.append(d.miles)\n",
        "  r = requests.get(f\"\"\"http://router.project-osrm.org/route/v1/car/{distance_df.loc[i, \"Longitude\"]},{distance_df.loc[i, \"Latitude\"]};{cmu_address[1]},{cmu_address[0]}?overview=false\"\"\")\n",
        "  route_1 = json.loads(r.content)[\"routes\"][0]\n",
        "  driving.append(route_1[\"distance\"]*0.000621371)\n",
        "distance_df[\"walk\"] = walking\n",
        "distance_df[\"drive\"] = driving"
      ]
    },
    {
      "cell_type": "code",
      "execution_count": null,
      "metadata": {
        "id": "sy74tK7wNXK6"
      },
      "outputs": [],
      "source": [
        "distance_df = pd.read_csv('data/distance_df.csv')\n",
        "print(distance_df)"
      ]
    },
    {
      "cell_type": "markdown",
      "metadata": {
        "id": "WKrZFWMpVh3X"
      },
      "source": [
        "# OOP Structuring"
      ]
    },
    {
      "cell_type": "code",
      "execution_count": 17,
      "metadata": {
        "id": "FK4T9F62QXaX"
      },
      "outputs": [],
      "source": [
        "class Listing(ABC): # abstraction?\n",
        "  def __init__(self, addr_dict, price, walk_time=None, drive_dist=None, h_type=None, description=None): \n",
        "    self.address = addr_dict\n",
        "    self.house_type = h_type \n",
        "    self.walk = walk_time\n",
        "    self.drive = drive_dist\n",
        "    self.price = price\n",
        "    self.description = description\n",
        "\n",
        "  def get_housing_info(self): \n",
        "    return self.housing_info\n",
        "\n",
        "  def update_housing_info(self, new_info): \n",
        "    # pass\n",
        "    self.housing_info = new_info\n",
        "\n",
        "  def get_address(self): \n",
        "    return self.address\n",
        "\n",
        "  def get_drive_distance(self): \n",
        "    return self.drive\n",
        "\n",
        "  @abstractmethod\n",
        "  def get_list_type(self): \n",
        "    pass\n",
        "\n",
        "  # def distance_from_cmu(self) -> float: \n",
        "  #   pass\n",
        "\n",
        "# class SchoolListing(Listing): \n",
        "\n",
        "\n",
        "class ZillowListing(Listing): \n",
        "  def __init__(self, addr_dict, price, walk_time=None, drive_dist=None, h_type=None, description=None, zlink=None): \n",
        "    super().__init__(addr_dict, price, walk_time=None, drive_dist=None, h_type=None, description=None)\n",
        "    self.zillow_link = zlink\n",
        "\n",
        "  def get_list_type(self): \n",
        "    return \"Zillow\"\n",
        "  \n",
        "  def get_zillow_link(self):\n",
        "    return self.zillow_link\n",
        "\n",
        "  def update_zillow_link(self, new_link):\n",
        "    self.zillow_link = new_link\n",
        "\n",
        "\n",
        "  \n"
      ]
    },
    {
      "cell_type": "code",
      "execution_count": 24,
      "metadata": {
        "id": "TU2a9dXWbZch"
      },
      "outputs": [],
      "source": [
        "zill_listings = [ZillowListing({'addr':row.addr, 'city':row.city, 'state':row.state, 'zipcode':row.zip}, row.price, row.walk, row.drive, row.house_type) for _, row in distance_df.iterrows()]"
      ]
    },
    {
      "cell_type": "code",
      "execution_count": 25,
      "metadata": {
        "colab": {
          "base_uri": "https://localhost:8080/"
        },
        "id": "N2EE6NAibUPt",
        "outputId": "44aa1879-059e-4235-dce0-00760c9e31ee"
      },
      "outputs": [
        {
          "name": "stdout",
          "output_type": "stream",
          "text": [
            "{'addr': '2353 Sidney St #2', 'city': 'Pittsburgh', 'state': 'PA', 'zipcode': 15203}\n",
            "{'addr': '441 Edgemont St #2', 'city': 'Mt Washington', 'state': 'PA', 'zipcode': 15211}\n",
            "{'addr': '200 S 15th St', 'city': 'Pittsburgh', 'state': 'PA', 'zipcode': 15203}\n",
            "{'addr': '5317 Forbes Ave', 'city': 'Pittsburgh', 'state': 'PA', 'zipcode': 15217}\n",
            "{'addr': '4711 Maripoe St #1', 'city': 'Pittsburgh', 'state': 'PA', 'zipcode': 15213}\n",
            "{'addr': '1625 Hybla St', 'city': 'Pittsburgh', 'state': 'PA', 'zipcode': 15212}\n",
            "{'addr': '3202 Hazelhurst Ave', 'city': 'Pittsburgh', 'state': 'PA', 'zipcode': 15227}\n",
            "{'addr': '4245 Parkman Ave', 'city': 'Pittsburgh', 'state': 'PA', 'zipcode': 15213}\n",
            "{'addr': '1007 Galveston Ave', 'city': 'Pittsburgh', 'state': 'PA', 'zipcode': 15233}\n",
            "{'addr': '11370 Althea Rd', 'city': 'Pittsburgh', 'state': 'PA', 'zipcode': 15235}\n",
            "{'addr': '333 Lehigh Ave #2', 'city': 'Pittsburgh', 'state': 'PA', 'zipcode': 15232}\n",
            "{'addr': '1465 Old Steubenville Pike #B', 'city': 'Pittsburgh', 'state': 'PA', 'zipcode': 15205}\n",
            "{'addr': '223 Carnegie Pl', 'city': 'Pittsburgh', 'state': 'PA', 'zipcode': 15208}\n",
            "{'addr': '5541 Beacon St FLOOR 1', 'city': 'Pittsburgh', 'state': 'PA', 'zipcode': 15217}\n",
            "{'addr': '6116 Stanton Ave', 'city': 'Pittsburgh', 'state': 'PA', 'zipcode': 15206}\n",
            "{'addr': '2801 Larkins Way', 'city': 'Pittsburgh', 'state': 'PA', 'zipcode': 15203}\n",
            "{'addr': '637 Danbury St', 'city': 'Pittsburgh', 'state': 'PA', 'zipcode': 15214}\n",
            "{'addr': '1806 Rhine St #1804', 'city': 'Pittsburgh', 'state': 'PA', 'zipcode': 15212}\n",
            "{'addr': '4008 Woolslayer Way', 'city': 'Pittsburgh', 'state': 'PA', 'zipcode': 15224}\n",
            "{'addr': '3220 1/2 Hardie Way', 'city': 'Pittsburgh', 'state': 'PA', 'zipcode': 15213}\n",
            "{'addr': '514 Parallel Ave #2', 'city': 'Pittsburgh', 'state': 'PA', 'zipcode': 15210}\n",
            "{'addr': '2525 Sarah St APT 6', 'city': 'Pittsburgh', 'state': 'PA', 'zipcode': 15203}\n",
            "{'addr': '230 Clairmont Ave FLOOR 2', 'city': 'Pittsburgh', 'state': 'PA', 'zipcode': 15229}\n",
            "{'addr': '7708 Westmoreland Ave', 'city': 'Pittsburgh', 'state': 'PA', 'zipcode': 15218}\n",
            "{'addr': '2507 Wedgemere St #2', 'city': 'Pittsburgh', 'state': 'PA', 'zipcode': 15226}\n",
            "{'addr': '252 Atwood St #1', 'city': 'Pittsburgh', 'state': 'PA', 'zipcode': 15213}\n",
            "{'addr': '1315 Diana St', 'city': 'Pittsburgh', 'state': 'PA', 'zipcode': 15212}\n"
          ]
        }
      ],
      "source": [
        "for listing in zill_listings: \n",
        "  print(listing.get_address())"
      ]
    },
    {
      "cell_type": "code",
      "execution_count": 20,
      "metadata": {},
      "outputs": [],
      "source": [
        "\n",
        "class CMUListing(Listing):\n",
        "    def __init__(self, addr_dict, grade, building_name, room_type, bathroom_type, price, ac):\n",
        "        super().__init__(addr_dict, price)\n",
        "        self.building_name = building_name\n",
        "        self.room_type = room_type\n",
        "        self.bathroom_type = bathroom_type\n",
        "        self.ac = ac   \n",
        "    def get_list_type(self):\n",
        "        return \"CMU On-Campus\"\n",
        "class ManualListing(Listing):\n",
        "    def __init__(self, first_name, last_name, contact, availability, addr_dict, bathrooms, bedrooms, home_type):\n",
        "        super().__init__(addr_dict, price)\n",
        "        self.first_name = first_name\n",
        "        self.last_name = last_name\n",
        "        self.contact = contact\n",
        "        self.availability = availability \n",
        "        self.bathrooms = bathrooms\n",
        "        self.bedrooms = bedrooms\n",
        "        self.home_type = home_type\n",
        "    def get_list_type(self):\n",
        "        return \"User Posting\""
      ]
    },
    {
      "cell_type": "code",
      "execution_count": 21,
      "metadata": {},
      "outputs": [
        {
          "name": "stdout",
          "output_type": "stream",
          "text": [
            "{'addr': '5126 Margaret Morrison St', 'city': ' Pittsburgh', 'state': '', 'zipcode': 'PA'}\n",
            "{'addr': '5126 Margaret Morrison St', 'city': ' Pittsburgh', 'state': '', 'zipcode': 'PA'}\n",
            "{'addr': '624 Clyde St', 'city': ' Pittsburgh', 'state': '', 'zipcode': 'PA'}\n",
            "{'addr': '624 Clyde St', 'city': ' Pittsburgh', 'state': '', 'zipcode': 'PA'}\n",
            "{'addr': '5115 Margaret Morrison St', 'city': ' Pittsburgh', 'state': '', 'zipcode': 'PA'}\n",
            "{'addr': '5115 Margaret Morrison St', 'city': ' Pittsburgh', 'state': '', 'zipcode': 'PA'}\n",
            "{'addr': '5115 Margaret Morrison St', 'city': ' Pittsburgh', 'state': '', 'zipcode': 'PA'}\n",
            "{'addr': '4614 Fifth Ave', 'city': ' Pittsburgh', 'state': '', 'zipcode': 'PA'}\n",
            "{'addr': '4614 Fifth Ave', 'city': ' Pittsburgh', 'state': '', 'zipcode': 'PA'}\n",
            "{'addr': '4614 Fifth Ave', 'city': ' Pittsburgh', 'state': '', 'zipcode': 'PA'}\n",
            "{'addr': '4735 Fifth Ave', 'city': ' Pittsburgh', 'state': '', 'zipcode': 'PA'}\n",
            "{'addr': '4735 Fifth Ave', 'city': ' Pittsburgh', 'state': '', 'zipcode': 'PA'}\n",
            "{'addr': '4735 Fifth Ave', 'city': ' Pittsburgh', 'state': '', 'zipcode': 'PA'}\n",
            "{'addr': '4735 Fifth Ave', 'city': ' Pittsburgh', 'state': '', 'zipcode': 'PA'}\n",
            "{'addr': '4705 Fifth Ave', 'city': ' Pittsburgh', 'state': '', 'zipcode': 'PA'}\n",
            "{'addr': '4705 Fifth Ave', 'city': ' Pittsburgh', 'state': '', 'zipcode': 'PA'}\n",
            "{'addr': '4705 Fifth Ave', 'city': ' Pittsburgh', 'state': '', 'zipcode': 'PA'}\n",
            "{'addr': 'Forbes Ave at', 'city': ' Beeler St', 'state': '', 'zipcode': 'Pittsburgh'}\n",
            "{'addr': 'Forbes Ave at', 'city': ' Beeler St', 'state': '', 'zipcode': 'Pittsburgh'}\n",
            "{'addr': '1065 Morewood Ave', 'city': ' Pittsburgh', 'state': '', 'zipcode': 'PA'}\n",
            "{'addr': '1065 Morewood Ave', 'city': ' Pittsburgh', 'state': '', 'zipcode': 'PA'}\n",
            "{'addr': '1065 Morewood Ave', 'city': ' Pittsburgh', 'state': '', 'zipcode': 'PA'}\n",
            "{'addr': '1065 Morewood Ave', 'city': ' Pittsburgh', 'state': '', 'zipcode': 'PA'}\n",
            "{'addr': '528 Pressley St', 'city': ' Pittsburgh', 'state': '', 'zipcode': 'PA'}\n",
            "{'addr': '528 Pressley St', 'city': ' Pittsburgh', 'state': '', 'zipcode': 'PA'}\n",
            "{'addr': '618 Clyde St', 'city': ' Pittsburgh', 'state': '', 'zipcode': 'PA'}\n",
            "{'addr': '618 Clyde St', 'city': ' Pittsburgh', 'state': '', 'zipcode': 'PA'}\n",
            "{'addr': 'Margaret Morrison Apartments', 'city': ' Pittsburgh', 'state': '', 'zipcode': 'PA'}\n",
            "{'addr': '5143 Forbes Ave', 'city': ' Pittsburgh', 'state': '', 'zipcode': 'PA'}\n",
            "{'addr': '5143 Forbes Ave', 'city': ' Pittsburgh', 'state': '', 'zipcode': 'PA'}\n",
            "{'addr': '5180 Margaret Morrison St', 'city': ' Pittsburgh', 'state': '', 'zipcode': 'PA'}\n",
            "{'addr': '5180 Margaret Morrison St', 'city': ' Pittsburgh', 'state': '', 'zipcode': 'PA'}\n",
            "{'addr': '1060 Forbes Avenue', 'city': ' Pittsburgh', 'state': '', 'zipcode': 'PA'}\n",
            "{'addr': '1060 Forbes Avenue', 'city': ' Pittsburgh', 'state': '', 'zipcode': 'PA'}\n",
            "{'addr': '1060 Forbes Avenue', 'city': ' Pittsburgh', 'state': '', 'zipcode': 'PA'}\n",
            "{'addr': '1060 Morewood Ave', 'city': ' Piitsburgh', 'state': '', 'zipcode': 'PA'}\n",
            "{'addr': '1060 Morewood Ave', 'city': ' Piitsburgh', 'state': '', 'zipcode': 'PA'}\n",
            "{'addr': '1060 Morewood Ave', 'city': ' Piitsburgh', 'state': '', 'zipcode': 'PA'}\n",
            "{'addr': '1000 Morewood Ave', 'city': ' Pittsburgh', 'state': '', 'zipcode': 'PA'}\n",
            "{'addr': '1000 Morewood Ave', 'city': ' Pittsburgh', 'state': '', 'zipcode': 'PA'}\n",
            "{'addr': '1000 Morewood Ave', 'city': ' Pittsburgh', 'state': '', 'zipcode': 'PA'}\n",
            "{'addr': '1000 Morewood Ave', 'city': ' Pittsburgh', 'state': '', 'zipcode': 'PA'}\n",
            "{'addr': '1000 Morewood Ave', 'city': ' Pittsburgh', 'state': '', 'zipcode': 'PA'}\n",
            "{'addr': '1000 Morewood Ave', 'city': ' Pittsburgh', 'state': '', 'zipcode': 'PA'}\n",
            "{'addr': '4705 Fifth Ave', 'city': ' Pittsburgh', 'state': '', 'zipcode': 'PA'}\n",
            "{'addr': '4705 Fifth Ave', 'city': ' Pittsburgh', 'state': '', 'zipcode': 'PA'}\n",
            "{'addr': '4700 Fifth Ave', 'city': ' Pittsburgh', 'state': '', 'zipcode': 'PA'}\n",
            "{'addr': '4700 Fifth Ave', 'city': ' Pittsburgh', 'state': '', 'zipcode': 'PA'}\n",
            "{'addr': '4700 Fifth Ave', 'city': ' Pittsburgh', 'state': '', 'zipcode': 'PA'}\n",
            "{'addr': '5000 Forbes Ave', 'city': ' Pittsburgh', 'state': '', 'zipcode': 'PA'}\n",
            "{'addr': '5000 Forbes Ave', 'city': ' Pittsburgh', 'state': '', 'zipcode': 'PA'}\n",
            "{'addr': '5000 Forbes Ave', 'city': ' Pittsburgh', 'state': '', 'zipcode': 'PA'}\n",
            "{'addr': '1-16 Roselawn Terrace', 'city': ' Pittsburgh', 'state': '', 'zipcode': 'PA'}\n",
            "{'addr': '1-16 Roselawn Terrace', 'city': ' Pittsburgh', 'state': '', 'zipcode': 'PA'}\n",
            "{'addr': '5120 Margaret Morrision St', 'city': ' Pittsburgh', 'state': '', 'zipcode': 'PA'}\n",
            "{'addr': '5120 Margaret Morrision St', 'city': ' Pittsburgh', 'state': '', 'zipcode': 'PA'}\n",
            "{'addr': '133 N Dithridge St', 'city': ' Pittsburgh', 'state': '', 'zipcode': 'PA'}\n",
            "{'addr': '133 N Dithridge St', 'city': ' Pittsburgh', 'state': '', 'zipcode': 'PA'}\n",
            "{'addr': '133 N Dithridge St', 'city': ' Pittsburgh', 'state': '', 'zipcode': 'PA'}\n",
            "{'addr': '5115 Margaret Morrison St', 'city': ' Pittsburgh', 'state': '', 'zipcode': 'PA'}\n",
            "{'addr': '5115 Margaret Morrison St', 'city': ' Pittsburgh', 'state': '', 'zipcode': 'PA'}\n",
            "{'addr': '5115 Margaret Morrison St', 'city': ' Pittsburgh', 'state': '', 'zipcode': 'PA'}\n",
            "{'addr': '1030 Morewood Ave', 'city': ' Pittsburgh', 'state': '', 'zipcode': 'PA'}\n",
            "{'addr': '5110 Skibo Drive', 'city': ' Pittsburgh', 'state': '', 'zipcode': 'PA'}\n",
            "{'addr': '5110 Skibo Drive', 'city': ' Pittsburgh', 'state': '', 'zipcode': 'PA'}\n",
            "{'addr': '5119 Forbes Ave', 'city': ' Pittsburgh', 'state': '', 'zipcode': 'PA'}\n",
            "{'addr': '5119 Forbes Ave', 'city': ' Pittsburgh', 'state': '', 'zipcode': 'PA'}\n",
            "{'addr': '5119 Forbes Ave', 'city': ' Pittsburgh', 'state': '', 'zipcode': 'PA'}\n",
            "{'addr': '5119 Forbes Ave', 'city': ' Pittsburgh', 'state': '', 'zipcode': 'PA'}\n",
            "{'addr': '5176 Margaret Morrison St', 'city': ' Pittsburgh', 'state': '', 'zipcode': 'PA'}\n",
            "{'addr': '5176 Margaret Morrison St', 'city': ' Pittsburgh', 'state': '', 'zipcode': 'PA'}\n"
          ]
        }
      ],
      "source": [
        "df_cmu = pd.read_csv(\"Data/CMU_listing_data.csv\")\n",
        "address = []\n",
        "cities = []\n",
        "states = []\n",
        "zipcodes = []\n",
        "for i in df_cmu.loc[:, \"Address\"]:\n",
        "    if(i == \"Corner of Morewood Avenue and Forbes Avenue\"):\n",
        "        i = \"1065 Morewood Ave, Pittsburgh, PA 15213\"\n",
        "    if(i == \"Margaret Morrison Corridor\"):\n",
        "        i = \"5143 Forbes Ave, Pittsburgh, PA 15213\"\n",
        "    splits = i.split(',')\n",
        "    address.append(splits[0])\n",
        "    cities.append(splits[1])\n",
        "    states.append(splits[2].split(\" \")[0])\n",
        "    zipcodes.append(splits[2].split(\" \")[1])\n",
        "cmu_listings = []\n",
        "i = 0\n",
        "for _, row in df_cmu.iterrows():\n",
        "    cmu_listings.append(CMUListing({'addr':address[i], 'city':cities[i], 'state':states[i], 'zipcode':zipcodes[i]}, row.For, row.Building, row.Room, row.Bathroom, row.Cost, row.AC))\n",
        "    i+=1\n",
        "for listing in cmu_listings: \n",
        "  print(listing.get_address())"
      ]
    },
    {
      "cell_type": "code",
      "execution_count": null,
      "metadata": {},
      "outputs": [],
      "source": [
        "all_listings = cmu_listings + zill_listings\n",
        "\n",
        "j_str = json.dumps([ob.__dict__ for ob in all_listings])\n",
        "\n",
        "print(j_str)"
      ]
    }
  ],
  "metadata": {
    "colab": {
      "collapsed_sections": [
        "iMsQe7ZIOgMy"
      ],
      "include_colab_link": true,
      "provenance": []
    },
    "kernelspec": {
      "display_name": "base",
      "language": "python",
      "name": "python3"
    },
    "language_info": {
      "codemirror_mode": {
        "name": "ipython",
        "version": 3
      },
      "file_extension": ".py",
      "mimetype": "text/x-python",
      "name": "python",
      "nbconvert_exporter": "python",
      "pygments_lexer": "ipython3",
      "version": "3.8.8"
    },
    "vscode": {
      "interpreter": {
        "hash": "40d3a090f54c6569ab1632332b64b2c03c39dcf918b08424e98f38b5ae0af88f"
      }
    }
  },
  "nbformat": 4,
  "nbformat_minor": 0
}
