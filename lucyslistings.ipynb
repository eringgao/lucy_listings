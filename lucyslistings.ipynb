{
  "cells": [
    {
      "cell_type": "markdown",
      "metadata": {
        "colab_type": "text",
        "id": "view-in-github"
      },
      "source": [
        "<a href=\"https://colab.research.google.com/github/eringgao/lucy_listings/blob/main/lucyslistings.ipynb\" target=\"_parent\"><img src=\"https://colab.research.google.com/assets/colab-badge.svg\" alt=\"Open In Colab\"/></a>"
      ]
    },
    {
      "cell_type": "markdown",
      "metadata": {
        "id": "iMsQe7ZIOgMy"
      },
      "source": [
        "# Installations and Declarations"
      ]
    },
    {
      "cell_type": "code",
      "execution_count": 52,
      "metadata": {
        "id": "H1k9VBgDJijg"
      },
      "outputs": [],
      "source": [
        "import pandas as pd\n",
        "import numpy as np\n",
        "from geopy import distance\n",
        "import requests\n",
        "import json\n",
        "import datetime\n",
        "import math\n",
        "import itertools\n",
        "import json\n",
        "from abc import ABC, abstractmethod"
      ]
    },
    {
      "cell_type": "markdown",
      "metadata": {
        "id": "_2kEDZdQOw4w"
      },
      "source": [
        "# Data Processsing"
      ]
    },
    {
      "cell_type": "code",
      "execution_count": 54,
      "metadata": {
        "colab": {
          "base_uri": "https://localhost:8080/"
        },
        "id": "zYwRztMZKQj3",
        "outputId": "7f83692f-0050-4254-b8a6-e08175962871"
      },
      "outputs": [],
      "source": [
        "df = pd.read_csv(\"Data/rapid_data.csv\")\n",
        "cmu_df = pd.read_csv(\"Data/CMU_listing_data.csv\")\n",
        "\n",
        "df = df.drop(columns = [\"currency\", \"daysOnZillow\", \"homeStatusForHDP\", \"zpid\", \"datePriceChanged\", \"priceChange\", \"priceReduction\", \"taxAssessedValue\", \"isFeatured\", \"isNonOwnerOccupied\", \"priceForHDP\", \"shouldHighlight\", \"homeStatus\", \"isPreforeclosureAuction\", \"isPremierBuilder\", \"isZillowOwned\", \"isRentalWithBasePrice\", \"isUnmappable\"])"
      ]
    },
    {
      "cell_type": "code",
      "execution_count": 57,
      "metadata": {
        "id": "Us3JoRn2Nenn"
      },
      "outputs": [],
      "source": [
        "addresses = df.loc[:, \"streetAddress\"]\n",
        "bath = df.loc[:, \"bathrooms\"]\n",
        "beds = df.loc[:, \"bedrooms\"]\n",
        "city = df.loc[:, \"city\"]\n",
        "state = df.loc[:, \"state\"]\n",
        "house_type = df.loc[:, \"homeType\"]\n",
        "lat = df.loc[:, \"latitude\"]\n",
        "longi = df.loc[:, \"longitude\"]\n",
        "price = df.loc[:, \"price\"]\n",
        "zip = df.loc[:, \"zipcode\"]\n",
        "cmu_address = (40.4433, -79.944023)\n",
        "distance_df = pd.DataFrame(columns = ['addr', 'Latitude', 'Longitude'])\n",
        "\n",
        "distance_df['addr'] = addresses\n",
        "distance_df['bath'] = bath\n",
        "distance_df['beds'] = beds\n",
        "distance_df['city'] = city\n",
        "distance_df['state'] = state\n",
        "distance_df['house_type'] = house_type\n",
        "distance_df['Latitude'] = lat\n",
        "distance_df['Longitude'] = longi\n",
        "distance_df['price'] = price\n",
        "distance_df['zip'] = zip"
      ]
    },
    {
      "cell_type": "code",
      "execution_count": 58,
      "metadata": {
        "id": "-RKARUu0YBEd"
      },
      "outputs": [],
      "source": [
        "walking = []\n",
        "driving = []\n",
        "for i in range(len(addresses)):\n",
        "  d = distance.distance((distance_df.loc[i, \"Latitude\"], distance_df.loc[i, \"Longitude\"]), (cmu_address[0],cmu_address[1]))\n",
        "  walking.append(d.miles)\n",
        "  r = requests.get(f\"\"\"http://router.project-osrm.org/route/v1/car/{distance_df.loc[i, \"Longitude\"]},{distance_df.loc[i, \"Latitude\"]};{cmu_address[1]},{cmu_address[0]}?overview=false\"\"\")\n",
        "  route_1 = json.loads(r.content)[\"routes\"][0]\n",
        "  driving.append(route_1[\"distance\"]*0.000621371)\n",
        "distance_df[\"walk\"] = walking\n",
        "distance_df[\"drive\"] = driving"
      ]
    },
    {
      "cell_type": "code",
      "execution_count": 60,
      "metadata": {
        "id": "sy74tK7wNXK6"
      },
      "outputs": [
        {
          "name": "stdout",
          "output_type": "stream",
          "text": [
            "    Unnamed: 0                           addr   Latitude  Longitude  bath  \\\n",
            "0            0              2353 Sidney St #2  40.429380 -79.971140   2.0   \n",
            "1            1             441 Edgemont St #2  40.422600 -79.998880   1.0   \n",
            "2            2                  200 S 15th St  40.424866 -79.983440   1.5   \n",
            "3            3                5317 Forbes Ave  40.440155 -79.934940   2.0   \n",
            "4            4             4711 Maripoe St #1  40.455498 -79.949670   1.0   \n",
            "5            5                  1625 Hybla St  40.474262 -80.037970   1.0   \n",
            "6            6            3202 Hazelhurst Ave  40.383247 -79.965300   1.0   \n",
            "7            7               4245 Parkman Ave  40.448345 -79.957280   3.0   \n",
            "8            8             1007 Galveston Ave  40.453010 -80.017100   1.5   \n",
            "9            9                11370 Althea Rd  40.468670 -79.832700   2.0   \n",
            "10          10              333 Lehigh Ave #2  40.456150 -79.926100   2.0   \n",
            "11          11  1465 Old Steubenville Pike #B  40.450570 -80.114400   1.0   \n",
            "12          12                223 Carnegie Pl  40.446510 -79.898950   1.0   \n",
            "13          13         5541 Beacon St FLOOR 1  40.434210 -79.928990   2.0   \n",
            "14          14               6116 Stanton Ave  40.468600 -79.918110   2.0   \n",
            "15          15               2801 Larkins Way  40.425310 -79.966675   1.5   \n",
            "16          16                 637 Danbury St  40.468822 -80.018380   1.0   \n",
            "17          17            1806 Rhine St #1804  40.464684 -79.991760   1.5   \n",
            "18          18            4008 Woolslayer Way  40.464664 -79.957400   1.0   \n",
            "19          19            3220 1/2 Hardie Way  40.431488 -79.955870   1.0   \n",
            "20          20            514 Parallel Ave #2  40.403587 -79.978990   1.0   \n",
            "21          21            2525 Sarah St APT 6  40.426945 -79.969185   1.0   \n",
            "22          22      230 Clairmont Ave FLOOR 2  40.518166 -80.021194   1.0   \n",
            "23          23          7708 Westmoreland Ave  40.422935 -79.883320   1.0   \n",
            "24          24           2507 Wedgemere St #2  40.396347 -80.020950   1.0   \n",
            "25          25               252 Atwood St #1  40.439766 -79.956350   1.0   \n",
            "26          26                  1315 Diana St  40.461582 -79.990480   2.0   \n",
            "\n",
            "    beds           city state     house_type  price    zip      walk  \\\n",
            "0      4     Pittsburgh    PA      APARTMENT   2700  15203  1.722332   \n",
            "1      2  Mt Washington    PA      APARTMENT   1200  15211  3.225751   \n",
            "2      3     Pittsburgh    PA  SINGLE_FAMILY   1500  15203  2.436547   \n",
            "3      4     Pittsburgh    PA  SINGLE_FAMILY   3760  15217  0.525712   \n",
            "4      1     Pittsburgh    PA      APARTMENT    850  15213  0.892737   \n",
            "5      3     Pittsburgh    PA  SINGLE_FAMILY   1100  15212  5.392646   \n",
            "6      2     Pittsburgh    PA  SINGLE_FAMILY   1290  15227  4.292837   \n",
            "7      5     Pittsburgh    PA  SINGLE_FAMILY   4250  15213  0.780735   \n",
            "8      2     Pittsburgh    PA      TOWNHOUSE   1500  15233  3.909921   \n",
            "9      3     Pittsburgh    PA  SINGLE_FAMILY   1400  15235  6.123022   \n",
            "10     3     Pittsburgh    PA      APARTMENT   2995  15232  1.295638   \n",
            "11     2     Pittsburgh    PA      APARTMENT   1250  15205  8.995203   \n",
            "12     4     Pittsburgh    PA  SINGLE_FAMILY   2500  15208  2.386338   \n",
            "13     3     Pittsburgh    PA      APARTMENT   2475  15217  1.010694   \n",
            "14     3     Pittsburgh    PA      APARTMENT   1880  15206  2.216478   \n",
            "15     3     Pittsburgh    PA  SINGLE_FAMILY   1650  15203  1.722539   \n",
            "16     2     Pittsburgh    PA  SINGLE_FAMILY   1300  15214  4.296567   \n",
            "17     2     Pittsburgh    PA      APARTMENT    899  15212  2.916840   \n",
            "18     4     Pittsburgh    PA  SINGLE_FAMILY   1895  15224  1.634044   \n",
            "19     2     Pittsburgh    PA  SINGLE_FAMILY    950  15213  1.026821   \n",
            "20     2     Pittsburgh    PA      APARTMENT   1350  15210  3.302774   \n",
            "21     1     Pittsburgh    PA      APARTMENT    850  15203  1.741657   \n",
            "22     2     Pittsburgh    PA      APARTMENT    900  15229  6.573919   \n",
            "23     3     Pittsburgh    PA  SINGLE_FAMILY   1135  15218  3.495413   \n",
            "24     2     Pittsburgh    PA      TOWNHOUSE   1000  15226  5.191605   \n",
            "25     1     Pittsburgh    PA      APARTMENT    925  15213  0.694096   \n",
            "26     2     Pittsburgh    PA  SINGLE_FAMILY   1250  15212  2.754537   \n",
            "\n",
            "        drive  \n",
            "0    2.555264  \n",
            "1    5.092446  \n",
            "2    4.632694  \n",
            "3    1.310844  \n",
            "4    1.255604  \n",
            "5    7.292783  \n",
            "6    6.952023  \n",
            "7    1.173832  \n",
            "8    5.296566  \n",
            "9    7.595701  \n",
            "10   2.164173  \n",
            "11  12.796266  \n",
            "12   3.330114  \n",
            "13   1.735551  \n",
            "14   3.133139  \n",
            "15   2.303049  \n",
            "16   6.674581  \n",
            "17   4.719748  \n",
            "18   2.237868  \n",
            "19   1.557653  \n",
            "20   5.687782  \n",
            "21   2.453235  \n",
            "22   8.296546  \n",
            "23   6.142625  \n",
            "24   6.571620  \n",
            "25   1.003079  \n",
            "26   5.663300  \n"
          ]
        }
      ],
      "source": [
        "distance_df = pd.read_csv('data/distance_df.csv')\n",
        "print(distance_df)"
      ]
    },
    {
      "cell_type": "markdown",
      "metadata": {
        "id": "WKrZFWMpVh3X"
      },
      "source": [
        "# OOP Structuring"
      ]
    },
    {
      "cell_type": "code",
      "execution_count": 40,
      "metadata": {},
      "outputs": [],
      "source": [
        "distance_df = pd.read_csv('data/distance_df.csv')"
      ]
    },
    {
      "cell_type": "code",
      "execution_count": 41,
      "metadata": {
        "id": "FK4T9F62QXaX"
      },
      "outputs": [],
      "source": [
        "class Listing(ABC): # abstraction?\n",
        "  def __init__(self, addr_dict, price, walk_time=None, drive_dist=None, h_type=None, description=None): \n",
        "    self.address = addr_dict\n",
        "    self.house_type = h_type \n",
        "    self.walk = walk_time\n",
        "    self.drive = drive_dist\n",
        "    self.price = price\n",
        "    self.description = description\n",
        "\n",
        "  def get_housing_info(self): \n",
        "    return self.housing_info\n",
        "\n",
        "  def update_housing_info(self, new_info): \n",
        "    # pass\n",
        "    self.housing_info = new_info\n",
        "\n",
        "  def get_address(self): \n",
        "    return self.address\n",
        "\n",
        "  def get_drive_distance(self): \n",
        "    return self.drive\n",
        "\n",
        "  @abstractmethod\n",
        "  def get_list_type(self): \n",
        "    pass\n",
        "\n",
        "\n",
        "class ZillowListing(Listing): \n",
        "  def __init__(self, addr_dict, price, walk_time=None, drive_dist=None, h_type=None, description=None, zlink=None): \n",
        "    super().__init__(addr_dict, price, walk_time=None, drive_dist=None, h_type=None, description=None)\n",
        "    self.zillow_link = zlink\n",
        "\n",
        "  def get_list_type(self): \n",
        "    return \"Zillow\"\n",
        "  \n",
        "  def get_zillow_link(self):\n",
        "    return self.zillow_link\n",
        "\n",
        "  def update_zillow_link(self, new_link):\n",
        "    self.zillow_link = new_link\n",
        "\n",
        "\n",
        "  \n"
      ]
    },
    {
      "cell_type": "code",
      "execution_count": 42,
      "metadata": {
        "id": "TU2a9dXWbZch"
      },
      "outputs": [],
      "source": [
        "zill_listings = [ZillowListing({'addr':row.addr, 'city':row.city, 'state':row.state, 'zipcode':row.zip}, row.price, row.walk, row.drive, row.house_type) for _, row in distance_df.iterrows()]"
      ]
    },
    {
      "cell_type": "code",
      "execution_count": 43,
      "metadata": {},
      "outputs": [],
      "source": [
        "\n",
        "class CMUListing(Listing):\n",
        "    def __init__(self, addr_dict, grade, building_name, room_type, bathroom_type, price, ac):\n",
        "        super().__init__(addr_dict, price)\n",
        "        self.building_name = building_name\n",
        "        self.grade = grade\n",
        "        self.room_type = room_type\n",
        "        self.bathroom_type = bathroom_type\n",
        "        self.price = price\n",
        "        self.ac = ac   \n",
        "    def get_list_type(self):\n",
        "        return \"CMU On-Campus\"\n",
        "    def get_grade(self):\n",
        "        return self.grade\n",
        "    \n",
        "class ManualListing(Listing):\n",
        "    def __init__(self, first_name, last_name, contact, availability, addr_dict, bathrooms, bedrooms, home_type):\n",
        "        super().__init__(addr_dict, price)\n",
        "        self.first_name = first_name\n",
        "        self.last_name = last_name\n",
        "        self.contact = contact\n",
        "        self.availability = availability \n",
        "        self.bathrooms = bathrooms\n",
        "        self.bedrooms = bedrooms\n",
        "        self.home_type = home_type\n",
        "    def get_list_type(self):\n",
        "        return \"User Posting\""
      ]
    },
    {
      "cell_type": "code",
      "execution_count": 44,
      "metadata": {},
      "outputs": [
        {
          "name": "stdout",
          "output_type": "stream",
          "text": [
            "Freshman\n",
            "Freshman\n",
            "Freshman\n",
            "Freshman\n",
            "Freshman\n",
            "Freshman\n",
            "Freshman\n",
            "Upperclassman\n",
            "Upperclassman\n",
            "Upperclassman\n",
            "Upperclassman\n",
            "Upperclassman\n",
            "Upperclassman\n",
            "Upperclassman\n",
            "Upperclassman\n",
            "Upperclassman\n",
            "Upperclassman\n",
            "Upperclassman\n",
            "Upperclassman\n",
            "Upperclassman\n",
            "Upperclassman\n",
            "Freshman\n",
            "Freshman\n",
            "Upperclassman\n",
            "Upperclassman\n",
            "Upperclassman\n",
            "Upperclassman\n",
            "Upperclassman\n",
            "Freshman\n",
            "Freshman\n",
            "Freshman\n",
            "Freshman\n",
            "Freshman\n",
            "All\n",
            "All\n",
            "All\n",
            "Freshman\n",
            "Freshman\n",
            "Freshman\n",
            "Freshman\n",
            "Freshman\n",
            "Freshman\n",
            "Upperclassman\n",
            "Upperclassman\n",
            "Freshman\n",
            "Freshman\n",
            "Freshman\n",
            "Upperclassman\n",
            "Upperclassman\n",
            "Upperclassman\n",
            "Upperclassman\n",
            "Upperclassman\n",
            "Freshman\n",
            "Freshman\n",
            "Upperclassman\n",
            "Upperclassman\n",
            "Upperclassman\n",
            "Upperclassman\n",
            "Upperclassman\n",
            "Upperclassman\n",
            "Freshman\n",
            "Freshman\n",
            "Freshman\n",
            "Upperclassman\n",
            "Upperclassman\n",
            "Upperclassman\n",
            "Upperclassman\n",
            "Upperclassman\n",
            "Upperclassman\n"
          ]
        }
      ],
      "source": [
        "df_cmu = pd.read_csv(\"Data/CMU_listing_data.csv\")\n",
        "address = []\n",
        "cities = []\n",
        "states = []\n",
        "zipcodes = []\n",
        "for i in df_cmu.loc[:, \"Address\"]:\n",
        "    if(i == \"Corner of Morewood Avenue and Forbes Avenue\"):\n",
        "        i = \"1065 Morewood Ave, Pittsburgh, PA 15213\"\n",
        "    if(i == \"Margaret Morrison Corridor\"):\n",
        "        i = \"5143 Forbes Ave, Pittsburgh, PA 15213\"\n",
        "    splits = i.split(',')\n",
        "    address.append(splits[0])\n",
        "    cities.append(splits[1])\n",
        "    states.append(splits[2].split(\" \")[0])\n",
        "    zipcodes.append(splits[2].split(\" \")[1])\n",
        "cmu_listings = []\n",
        "i = 0\n",
        "for _, row in df_cmu.iterrows():\n",
        "    cmu_listings.append(CMUListing({'addr':address[i], 'city':cities[i], 'state':states[i], 'zipcode':zipcodes[i]}, row.For, row.Building, row.Room, row.Bathroom, row.Cost, row.AC))\n",
        "    i+=1\n",
        "for listing in cmu_listings: \n",
        "  print(listing.get_grade())"
      ]
    },
    {
      "cell_type": "code",
      "execution_count": 49,
      "metadata": {},
      "outputs": [],
      "source": [
        "cmu_jstr = json.dumps([ob.__dict__ for ob in cmu_listings], indent=4)\n",
        "zil_jstr = json.dumps([ob.__dict__ for ob in zill_listings], indent=4)\n",
        "# f = open('/Users/margarethe/lucy_listings/data/cmu_list.json', 'w')\n",
        "# f.write(cmu_jstr)\n",
        "# f.close()"
      ]
    },
    {
      "cell_type": "code",
      "execution_count": null,
      "metadata": {},
      "outputs": [],
      "source": []
    }
  ],
  "metadata": {
    "colab": {
      "collapsed_sections": [
        "iMsQe7ZIOgMy"
      ],
      "include_colab_link": true,
      "provenance": []
    },
    "kernelspec": {
      "display_name": "base",
      "language": "python",
      "name": "python3"
    },
    "language_info": {
      "codemirror_mode": {
        "name": "ipython",
        "version": 3
      },
      "file_extension": ".py",
      "mimetype": "text/x-python",
      "name": "python",
      "nbconvert_exporter": "python",
      "pygments_lexer": "ipython3",
      "version": "3.8.8"
    },
    "vscode": {
      "interpreter": {
        "hash": "40d3a090f54c6569ab1632332b64b2c03c39dcf918b08424e98f38b5ae0af88f"
      }
    }
  },
  "nbformat": 4,
  "nbformat_minor": 0
}
