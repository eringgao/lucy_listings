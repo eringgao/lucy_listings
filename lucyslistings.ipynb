{
  "nbformat": 4,
  "nbformat_minor": 0,
  "metadata": {
    "colab": {
      "provenance": [],
      "include_colab_link": true
    },
    "kernelspec": {
      "name": "python3",
      "display_name": "Python 3"
    },
    "language_info": {
      "name": "python"
    }
  },
  "cells": [
    {
      "cell_type": "markdown",
      "metadata": {
        "id": "view-in-github",
        "colab_type": "text"
      },
      "source": [
        "<a href=\"https://colab.research.google.com/github/eringgao/lucy_listings/blob/main/lucyslistings.ipynb\" target=\"_parent\"><img src=\"https://colab.research.google.com/assets/colab-badge.svg\" alt=\"Open In Colab\"/></a>"
      ]
    },
    {
      "cell_type": "markdown",
      "source": [
        "#Installations and Declarations"
      ],
      "metadata": {
        "id": "iMsQe7ZIOgMy"
      }
    },
    {
      "cell_type": "code",
      "execution_count": null,
      "metadata": {
        "id": "H1k9VBgDJijg"
      },
      "outputs": [],
      "source": [
        "import pandas as pd\n",
        "import numpy as np\n",
        "%pip install geopy"
      ]
    },
    {
      "cell_type": "code",
      "source": [
        "from google.colab import drive\n",
        "drive.mount('/content/drive')"
      ],
      "metadata": {
        "id": "3944VNKMKVk_"
      },
      "execution_count": null,
      "outputs": []
    },
    {
      "cell_type": "code",
      "source": [
        "# TYPE_CMU = 0 \n",
        "# TYPE_ZILLOW = 1 \n",
        "# TYPE_MANUAL = 2"
      ],
      "metadata": {
        "id": "lidcAswqO2C7"
      },
      "execution_count": null,
      "outputs": []
    },
    {
      "cell_type": "markdown",
      "source": [
        "# Coding Starts Here"
      ],
      "metadata": {
        "id": "_2kEDZdQOw4w"
      }
    },
    {
      "cell_type": "code",
      "source": [
        "df = pd.read_csv(\"/content/drive/MyDrive/rapid_data.csv\")\n",
        "\n",
        "print(df)"
      ],
      "metadata": {
        "colab": {
          "base_uri": "https://localhost:8080/"
        },
        "id": "zYwRztMZKQj3",
        "outputId": "1f505297-3c93-4677-cb55-7284b38b22e6"
      },
      "execution_count": null,
      "outputs": [
        {
          "output_type": "stream",
          "name": "stdout",
          "text": [
            "    bathrooms  bedrooms           city country currency  daysOnZillow  \\\n",
            "0         2.0         4     Pittsburgh     USA      USD             0   \n",
            "1         1.0         2  Mt Washington     USA      USD             0   \n",
            "2         1.5         3     Pittsburgh     USA      USD             0   \n",
            "3         2.0         4     Pittsburgh     USA      USD             0   \n",
            "4         1.0         1     Pittsburgh     USA      USD             0   \n",
            "5         1.0         3     Pittsburgh     USA      USD             0   \n",
            "6         1.0         2     Pittsburgh     USA      USD             0   \n",
            "7         3.0         5     Pittsburgh     USA      USD             0   \n",
            "8         1.5         2     Pittsburgh     USA      USD             0   \n",
            "9         2.0         3     Pittsburgh     USA      USD             0   \n",
            "10        2.0         3     Pittsburgh     USA      USD             0   \n",
            "11        1.0         2     Pittsburgh     USA      USD             0   \n",
            "12        1.0         4     Pittsburgh     USA      USD             0   \n",
            "13        2.0         3     Pittsburgh     USA      USD             0   \n",
            "14        2.0         3     Pittsburgh     USA      USD             0   \n",
            "15        1.5         3     Pittsburgh     USA      USD             0   \n",
            "16        1.0         2     Pittsburgh     USA      USD             0   \n",
            "17        1.5         2     Pittsburgh     USA      USD             0   \n",
            "18        1.0         4     Pittsburgh     USA      USD             0   \n",
            "19        1.0         2     Pittsburgh     USA      USD             0   \n",
            "20        1.0         2     Pittsburgh     USA      USD             0   \n",
            "21        1.0         1     Pittsburgh     USA      USD             0   \n",
            "22        1.0         2     Pittsburgh     USA      USD             0   \n",
            "23        1.0         3     Pittsburgh     USA      USD             0   \n",
            "24        1.0         2     Pittsburgh     USA      USD             0   \n",
            "25        1.0         1     Pittsburgh     USA      USD             0   \n",
            "26        2.0         2     Pittsburgh     USA      USD             0   \n",
            "\n",
            "   homeStatus homeStatusForHDP       homeType  \\\n",
            "0    FOR_RENT         FOR_RENT      APARTMENT   \n",
            "1    FOR_RENT         FOR_RENT      APARTMENT   \n",
            "2    FOR_RENT         FOR_RENT  SINGLE_FAMILY   \n",
            "3    FOR_RENT         FOR_RENT  SINGLE_FAMILY   \n",
            "4    FOR_RENT         FOR_RENT      APARTMENT   \n",
            "5    FOR_RENT         FOR_RENT  SINGLE_FAMILY   \n",
            "6    FOR_RENT         FOR_RENT  SINGLE_FAMILY   \n",
            "7    FOR_RENT         FOR_RENT  SINGLE_FAMILY   \n",
            "8    FOR_RENT         FOR_RENT      TOWNHOUSE   \n",
            "9    FOR_RENT         FOR_RENT  SINGLE_FAMILY   \n",
            "10   FOR_RENT         FOR_RENT      APARTMENT   \n",
            "11   FOR_RENT         FOR_RENT      APARTMENT   \n",
            "12   FOR_RENT         FOR_RENT  SINGLE_FAMILY   \n",
            "13   FOR_RENT         FOR_RENT      APARTMENT   \n",
            "14   FOR_RENT         FOR_RENT      APARTMENT   \n",
            "15   FOR_RENT         FOR_RENT  SINGLE_FAMILY   \n",
            "16   FOR_RENT         FOR_RENT  SINGLE_FAMILY   \n",
            "17   FOR_RENT         FOR_RENT      APARTMENT   \n",
            "18   FOR_RENT         FOR_RENT  SINGLE_FAMILY   \n",
            "19   FOR_RENT         FOR_RENT  SINGLE_FAMILY   \n",
            "20   FOR_RENT         FOR_RENT      APARTMENT   \n",
            "21   FOR_RENT         FOR_RENT      APARTMENT   \n",
            "22   FOR_RENT         FOR_RENT      APARTMENT   \n",
            "23   FOR_RENT         FOR_RENT  SINGLE_FAMILY   \n",
            "24   FOR_RENT         FOR_RENT      TOWNHOUSE   \n",
            "25   FOR_RENT         FOR_RENT      APARTMENT   \n",
            "26   FOR_RENT         FOR_RENT  SINGLE_FAMILY   \n",
            "\n",
            "                                               imgSrc  ...  state  \\\n",
            "0   https://photos.zillowstatic.com/fp/b248d9fa8d7...  ...     PA   \n",
            "1   https://photos.zillowstatic.com/fp/c89f4243f58...  ...     PA   \n",
            "2   https://photos.zillowstatic.com/fp/53ceaaa899c...  ...     PA   \n",
            "3   https://photos.zillowstatic.com/fp/17e09173d09...  ...     PA   \n",
            "4   https://maps.googleapis.com/maps/api/staticmap...  ...     PA   \n",
            "5   https://photos.zillowstatic.com/fp/ff0c59895d0...  ...     PA   \n",
            "6   https://photos.zillowstatic.com/fp/86ddc87e310...  ...     PA   \n",
            "7   https://photos.zillowstatic.com/fp/1beec39a300...  ...     PA   \n",
            "8   https://photos.zillowstatic.com/fp/61ae6156f9b...  ...     PA   \n",
            "9   https://photos.zillowstatic.com/fp/833b0c10e43...  ...     PA   \n",
            "10  https://photos.zillowstatic.com/fp/1ad8cfb9714...  ...     PA   \n",
            "11  https://photos.zillowstatic.com/fp/f130072238c...  ...     PA   \n",
            "12  https://photos.zillowstatic.com/fp/6d26bb52993...  ...     PA   \n",
            "13  https://photos.zillowstatic.com/fp/0e02a715ea4...  ...     PA   \n",
            "14  https://photos.zillowstatic.com/fp/6bbf7ce82b4...  ...     PA   \n",
            "15  https://photos.zillowstatic.com/fp/fa0c8868257...  ...     PA   \n",
            "16  https://photos.zillowstatic.com/fp/ff150e70ee0...  ...     PA   \n",
            "17  https://maps.googleapis.com/maps/api/staticmap...  ...     PA   \n",
            "18  https://photos.zillowstatic.com/fp/44b0e96f82b...  ...     PA   \n",
            "19  https://maps.googleapis.com/maps/api/staticmap...  ...     PA   \n",
            "20  https://photos.zillowstatic.com/fp/1e352cf90f3...  ...     PA   \n",
            "21  https://maps.googleapis.com/maps/api/staticmap...  ...     PA   \n",
            "22  https://photos.zillowstatic.com/fp/b7b6d64d682...  ...     PA   \n",
            "23  https://photos.zillowstatic.com/fp/c00f2f807ca...  ...     PA   \n",
            "24  https://photos.zillowstatic.com/fp/09248a9cff7...  ...     PA   \n",
            "25  https://photos.zillowstatic.com/fp/b9cc8a65672...  ...     PA   \n",
            "26  https://photos.zillowstatic.com/fp/69fb830568e...  ...     PA   \n",
            "\n",
            "                    streetAddress     unit  zipcode        zpid  \\\n",
            "0               2353 Sidney St #2      # 2    15203  2098914984   \n",
            "1              441 Edgemont St #2      # 2    15211  2086781605   \n",
            "2                   200 S 15th St      NaN    15203    11475209   \n",
            "3                 5317 Forbes Ave      NaN    15217    11534025   \n",
            "4              4711 Maripoe St #1      # 1    15213  2059530905   \n",
            "5                   1625 Hybla St      NaN    15212    11604341   \n",
            "6             3202 Hazelhurst Ave      NaN    15227    11302681   \n",
            "7                4245 Parkman Ave      NaN    15213    11407517   \n",
            "8              1007 Galveston Ave      NaN    15233    11376515   \n",
            "9                 11370 Althea Rd      NaN    15235    11492124   \n",
            "10              333 Lehigh Ave #2      # 2    15232  2079280225   \n",
            "11  1465 Old Steubenville Pike #B      # B    15205  2061122184   \n",
            "12                223 Carnegie Pl      NaN    15208    11341130   \n",
            "13         5541 Beacon St FLOOR 1  Floor 1    15217  2075424395   \n",
            "14               6116 Stanton Ave      NaN    15206    11623060   \n",
            "15               2801 Larkins Way      NaN    15203    11292138   \n",
            "16                 637 Danbury St      NaN    15214    11498827   \n",
            "17            1806 Rhine St #1804   # 1804    15212  2059547162   \n",
            "18            4008 Woolslayer Way      NaN    15224    11514773   \n",
            "19            3220 1/2 Hardie Way      NaN    15213    11419823   \n",
            "20            514 Parallel Ave #2      # 2    15210  2059539319   \n",
            "21            2525 Sarah St APT 6    Apt 6    15203  2096869965   \n",
            "22      230 Clairmont Ave FLOOR 2  Floor 2    15229  2067564948   \n",
            "23          7708 Westmoreland Ave      NaN    15218    11345320   \n",
            "24           2507 Wedgemere St #2      # 2    15226  2100972404   \n",
            "25               252 Atwood St #1      # 1    15213  2080180171   \n",
            "26                  1315 Diana St      NaN    15212    11394607   \n",
            "\n",
            "    taxAssessedValue  zestimate  datePriceChanged  priceChange  priceReduction  \n",
            "0                NaN        NaN               NaN          NaN             NaN  \n",
            "1                NaN        NaN               NaN          NaN             NaN  \n",
            "2            87400.0   185600.0               NaN          NaN             NaN  \n",
            "3           177100.0   515100.0               NaN          NaN             NaN  \n",
            "4                NaN        NaN               NaN          NaN             NaN  \n",
            "5            64800.0   145000.0               NaN          NaN             NaN  \n",
            "6            82500.0   162400.0               NaN          NaN             NaN  \n",
            "7           354000.0   629700.0               NaN          NaN             NaN  \n",
            "8           123100.0   240800.0               NaN          NaN             NaN  \n",
            "9            47200.0   132000.0               NaN          NaN             NaN  \n",
            "10               NaN        NaN               NaN          NaN             NaN  \n",
            "11               NaN        NaN               NaN          NaN             NaN  \n",
            "12          156800.0   389600.0      1.675411e+12       -500.0    $500 (Feb 3)  \n",
            "13               NaN        NaN      1.674547e+12         75.0             NaN  \n",
            "14          237200.0        NaN      1.672992e+12       -100.0    $100 (Jan 6)  \n",
            "15          101800.0   205300.0               NaN          NaN             NaN  \n",
            "16           43200.0    89600.0               NaN          NaN             NaN  \n",
            "17               NaN        NaN               NaN          NaN             NaN  \n",
            "18           72400.0        NaN               NaN          NaN             NaN  \n",
            "19           35900.0   114800.0               NaN          NaN             NaN  \n",
            "20               NaN        NaN               NaN          NaN             NaN  \n",
            "21               NaN        NaN               NaN          NaN             NaN  \n",
            "22               NaN        NaN               NaN          NaN             NaN  \n",
            "23           22400.0   108000.0               NaN          NaN             NaN  \n",
            "24               NaN   160400.0               NaN          NaN             NaN  \n",
            "25               NaN        NaN      1.675411e+12        -50.0     $50 (Feb 3)  \n",
            "26           27700.0   165200.0               NaN          NaN             NaN  \n",
            "\n",
            "[27 rows x 34 columns]\n"
          ]
        }
      ]
    },
    {
      "cell_type": "code",
      "source": [
        "'''\n",
        "  Create an OOP structure for how we want to store all of our data.\n",
        "  Example format: \n",
        "'''\n",
        "class Listing: # abstraction?\n",
        "  def get_type(self) -> str: \n",
        "    # Manual, Zillow, CMU\n",
        "    pass \n",
        "  def get_housing_info(self) -> str: \n",
        "    # String data (paragraphs?) about housing\n",
        "    pass\n",
        "  def get_address(self) -> dict: \n",
        "    pass\n",
        "  def distance_from_cmu(self) -> float: \n",
        "    pass\n",
        "\n",
        "class SchoolListing(Listing): \n",
        "  def __init__(self, address): \n",
        "    # Some stuff here\n",
        "    self.get_type = \"CMU\"\n",
        "    # self.distance_from_cmu \n"
      ],
      "metadata": {
        "id": "Tz1qSJyeNJ4A"
      },
      "execution_count": null,
      "outputs": []
    },
    {
      "cell_type": "code",
      "source": [
        "geolocator = Nominatim()\n",
        "addresses = df.loc[:, \"streetAddress\"]\n",
        "cmu_address = \"5000 Forbes Ave, Pittsburgh, PA 15213\"\n",
        "print(addresses)\n",
        "distances = dict()\n",
        "for i in range(len(addresses)):\n",
        "  "
      ],
      "metadata": {
        "colab": {
          "base_uri": "https://localhost:8080/"
        },
        "id": "Us3JoRn2Nenn",
        "outputId": "6166748b-1bf6-47d9-93c7-7497491063ce"
      },
      "execution_count": null,
      "outputs": [
        {
          "output_type": "stream",
          "name": "stdout",
          "text": [
            "0                 2353 Sidney St #2\n",
            "1                441 Edgemont St #2\n",
            "2                     200 S 15th St\n",
            "3                   5317 Forbes Ave\n",
            "4                4711 Maripoe St #1\n",
            "5                     1625 Hybla St\n",
            "6               3202 Hazelhurst Ave\n",
            "7                  4245 Parkman Ave\n",
            "8                1007 Galveston Ave\n",
            "9                   11370 Althea Rd\n",
            "10                333 Lehigh Ave #2\n",
            "11    1465 Old Steubenville Pike #B\n",
            "12                  223 Carnegie Pl\n",
            "13           5541 Beacon St FLOOR 1\n",
            "14                 6116 Stanton Ave\n",
            "15                 2801 Larkins Way\n",
            "16                   637 Danbury St\n",
            "17              1806 Rhine St #1804\n",
            "18              4008 Woolslayer Way\n",
            "19              3220 1/2 Hardie Way\n",
            "20              514 Parallel Ave #2\n",
            "21              2525 Sarah St APT 6\n",
            "22        230 Clairmont Ave FLOOR 2\n",
            "23            7708 Westmoreland Ave\n",
            "24             2507 Wedgemere St #2\n",
            "25                 252 Atwood St #1\n",
            "26                    1315 Diana St\n",
            "Name: streetAddress, dtype: object\n"
          ]
        },
        {
          "output_type": "stream",
          "name": "stderr",
          "text": [
            "/usr/local/lib/python3.8/dist-packages/geopy/geocoders/osm.py:132: UserWarning: Using Nominatim with the default \"geopy/1.17.0\" `user_agent` is strongly discouraged, as it violates Nominatim's ToS https://operations.osmfoundation.org/policies/nominatim/ and may possibly cause 403 and 429 HTTP errors. Please specify a custom `user_agent` with `Nominatim(user_agent=\"my-application\")` or by overriding the default `user_agent`: `geopy.geocoders.options.default_user_agent = \"my-application\"`. In geopy 2.0 this will become an exception.\n",
            "  warnings.warn(\n"
          ]
        }
      ]
    }
  ]
}